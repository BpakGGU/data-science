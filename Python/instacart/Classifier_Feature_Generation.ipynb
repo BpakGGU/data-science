{
 "cells": [
  {
   "cell_type": "markdown",
   "metadata": {},
   "source": [
    "# Testing Classification"
   ]
  },
  {
   "cell_type": "code",
   "execution_count": 2,
   "metadata": {},
   "outputs": [],
   "source": [
    "import pandas as pd"
   ]
  },
  {
   "cell_type": "code",
   "execution_count": 3,
   "metadata": {},
   "outputs": [],
   "source": [
    "dataset = pd.read_csv(\"c:/users/hello/desktop/mlfinal/clean/priordata_clean.csv\")\n",
    "dataset=dataset.drop(columns=['Unnamed: 0'])"
   ]
  },
  {
   "cell_type": "code",
   "execution_count": 4,
   "metadata": {},
   "outputs": [],
   "source": [
    "cluster_data = pd.read_csv(\"c:/users/hello/desktop/mlfinal/clean/user_and_cluster.csv\")"
   ]
  },
  {
   "cell_type": "code",
   "execution_count": 11,
   "metadata": {},
   "outputs": [],
   "source": [
    "#dataset.head()"
   ]
  },
  {
   "cell_type": "code",
   "execution_count": 10,
   "metadata": {},
   "outputs": [],
   "source": [
    "#cluster_data.head()"
   ]
  },
  {
   "cell_type": "code",
   "execution_count": 8,
   "metadata": {},
   "outputs": [],
   "source": [
    "dataset_clusters = dataset.merge(cluster_data, left_on='user_id', right_on='user_id')"
   ]
  },
  {
   "cell_type": "code",
   "execution_count": 9,
   "metadata": {},
   "outputs": [
    {
     "data": {
      "text/html": [
       "<div>\n",
       "<style scoped>\n",
       "    .dataframe tbody tr th:only-of-type {\n",
       "        vertical-align: middle;\n",
       "    }\n",
       "\n",
       "    .dataframe tbody tr th {\n",
       "        vertical-align: top;\n",
       "    }\n",
       "\n",
       "    .dataframe thead th {\n",
       "        text-align: right;\n",
       "    }\n",
       "</style>\n",
       "<table border=\"1\" class=\"dataframe\">\n",
       "  <thead>\n",
       "    <tr style=\"text-align: right;\">\n",
       "      <th></th>\n",
       "      <th>order_id</th>\n",
       "      <th>user_id</th>\n",
       "      <th>order_number</th>\n",
       "      <th>order_dow</th>\n",
       "      <th>order_hour_of_day</th>\n",
       "      <th>days_since_prior_order</th>\n",
       "      <th>product_id</th>\n",
       "      <th>add_to_cart_order</th>\n",
       "      <th>reordered</th>\n",
       "      <th>aisle_id</th>\n",
       "      <th>department_id</th>\n",
       "      <th>cluster</th>\n",
       "    </tr>\n",
       "  </thead>\n",
       "  <tbody>\n",
       "    <tr>\n",
       "      <td>0</td>\n",
       "      <td>2539329</td>\n",
       "      <td>1</td>\n",
       "      <td>1</td>\n",
       "      <td>2</td>\n",
       "      <td>8</td>\n",
       "      <td>0.0</td>\n",
       "      <td>196</td>\n",
       "      <td>1</td>\n",
       "      <td>0</td>\n",
       "      <td>77</td>\n",
       "      <td>7</td>\n",
       "      <td>1</td>\n",
       "    </tr>\n",
       "    <tr>\n",
       "      <td>1</td>\n",
       "      <td>2550362</td>\n",
       "      <td>1</td>\n",
       "      <td>10</td>\n",
       "      <td>4</td>\n",
       "      <td>8</td>\n",
       "      <td>30.0</td>\n",
       "      <td>196</td>\n",
       "      <td>1</td>\n",
       "      <td>1</td>\n",
       "      <td>77</td>\n",
       "      <td>7</td>\n",
       "      <td>1</td>\n",
       "    </tr>\n",
       "    <tr>\n",
       "      <td>2</td>\n",
       "      <td>3108588</td>\n",
       "      <td>1</td>\n",
       "      <td>8</td>\n",
       "      <td>1</td>\n",
       "      <td>14</td>\n",
       "      <td>14.0</td>\n",
       "      <td>196</td>\n",
       "      <td>2</td>\n",
       "      <td>1</td>\n",
       "      <td>77</td>\n",
       "      <td>7</td>\n",
       "      <td>1</td>\n",
       "    </tr>\n",
       "    <tr>\n",
       "      <td>3</td>\n",
       "      <td>550135</td>\n",
       "      <td>1</td>\n",
       "      <td>7</td>\n",
       "      <td>1</td>\n",
       "      <td>9</td>\n",
       "      <td>20.0</td>\n",
       "      <td>196</td>\n",
       "      <td>1</td>\n",
       "      <td>1</td>\n",
       "      <td>77</td>\n",
       "      <td>7</td>\n",
       "      <td>1</td>\n",
       "    </tr>\n",
       "    <tr>\n",
       "      <td>4</td>\n",
       "      <td>2295261</td>\n",
       "      <td>1</td>\n",
       "      <td>9</td>\n",
       "      <td>1</td>\n",
       "      <td>16</td>\n",
       "      <td>0.0</td>\n",
       "      <td>196</td>\n",
       "      <td>4</td>\n",
       "      <td>1</td>\n",
       "      <td>77</td>\n",
       "      <td>7</td>\n",
       "      <td>1</td>\n",
       "    </tr>\n",
       "  </tbody>\n",
       "</table>\n",
       "</div>"
      ],
      "text/plain": [
       "   order_id  user_id  order_number  order_dow  order_hour_of_day  \\\n",
       "0   2539329        1             1          2                  8   \n",
       "1   2550362        1            10          4                  8   \n",
       "2   3108588        1             8          1                 14   \n",
       "3    550135        1             7          1                  9   \n",
       "4   2295261        1             9          1                 16   \n",
       "\n",
       "   days_since_prior_order  product_id  add_to_cart_order  reordered  aisle_id  \\\n",
       "0                     0.0         196                  1          0        77   \n",
       "1                    30.0         196                  1          1        77   \n",
       "2                    14.0         196                  2          1        77   \n",
       "3                    20.0         196                  1          1        77   \n",
       "4                     0.0         196                  4          1        77   \n",
       "\n",
       "   department_id  cluster  \n",
       "0              7        1  \n",
       "1              7        1  \n",
       "2              7        1  \n",
       "3              7        1  \n",
       "4              7        1  "
      ]
     },
     "execution_count": 9,
     "metadata": {},
     "output_type": "execute_result"
    }
   ],
   "source": [
    "dataset_clusters.head()"
   ]
  },
  {
   "cell_type": "code",
   "execution_count": 11,
   "metadata": {},
   "outputs": [],
   "source": [
    "#loaded each of the datasets and grouped by clusters for individual tuning\n",
    "\n",
    "# cluster0 = dataset_clusters[dataset_clusters['cluster']==0]\n",
    "# cluster1 = dataset_clusters[dataset_clusters['cluster']==1]\n",
    "# cluster2 = dataset_clusters[dataset_clusters['cluster']==2]\n",
    "# cluster3 = dataset_clusters[dataset_clusters['cluster']==3]"
   ]
  },
  {
   "cell_type": "code",
   "execution_count": 13,
   "metadata": {},
   "outputs": [],
   "source": [
    "# cluster0.to_csv(\"c:/users/hello/desktop/mlfinal/clean/cluster_separated/cluster0_raw.csv\")\n",
    "# cluster1.to_csv(\"c:/users/hello/desktop/mlfinal/clean/cluster_separated/cluster1_raw.csv\")\n",
    "# cluster2.to_csv(\"c:/users/hello/desktop/mlfinal/clean/cluster_separated/cluster2_raw.csv\")\n",
    "# cluster3.to_csv(\"c:/users/hello/desktop/mlfinal/clean/cluster_separated/cluster3_raw.csv\")"
   ]
  },
  {
   "cell_type": "code",
   "execution_count": 9,
   "metadata": {},
   "outputs": [
    {
     "data": {
      "text/plain": [
       "49468"
      ]
     },
     "execution_count": 9,
     "metadata": {},
     "output_type": "execute_result"
    }
   ],
   "source": [
    "#original dataset is defined by 49468 unique products\n",
    "\n",
    "len(dataset_clusters['product_id'].unique())"
   ]
  },
  {
   "cell_type": "code",
   "execution_count": 10,
   "metadata": {},
   "outputs": [
    {
     "name": "stdout",
     "output_type": "stream",
     "text": [
      "46498\n",
      "46815\n",
      "32117\n",
      "42485\n"
     ]
    }
   ],
   "source": [
    "print(len(cluster0['product_id'].unique()))\n",
    "print(len(cluster1['product_id'].unique()))\n",
    "print(len(cluster2['product_id'].unique()))\n",
    "print(len(cluster3['product_id'].unique()))"
   ]
  },
  {
   "cell_type": "code",
   "execution_count": 11,
   "metadata": {},
   "outputs": [
    {
     "name": "stdout",
     "output_type": "stream",
     "text": [
      "35636\n",
      "33111\n",
      "23627\n",
      "32288\n"
     ]
    }
   ],
   "source": [
    "#further decreased the Product catalogue for each cluster by identifying all items that have been reordered\n",
    "#at least once\n",
    "\n",
    "print(len(cluster0['product_id'].where(cluster0['reordered'] == 1).unique()))\n",
    "print(len(cluster1['product_id'].where(cluster1['reordered'] == 1).unique()))\n",
    "print(len(cluster2['product_id'].where(cluster2['reordered'] == 1).unique()))\n",
    "print(len(cluster3['product_id'].where(cluster3['reordered'] == 1).unique()))"
   ]
  },
  {
   "cell_type": "markdown",
   "metadata": {},
   "source": [
    "# Use Clusters to decrease product feature space"
   ]
  },
  {
   "cell_type": "code",
   "execution_count": 1,
   "metadata": {},
   "outputs": [],
   "source": [
    "import pandas as pd"
   ]
  },
  {
   "cell_type": "code",
   "execution_count": 6,
   "metadata": {},
   "outputs": [],
   "source": [
    "#recreate the cluster dataframes to include only items that have been reordered at least once\n",
    "\n",
    "\n",
    "def items_reordered_cluster(df_cluster):\n",
    "    \n",
    "    never_reordered = []\n",
    "    \n",
    "    \n",
    "    product_list = df_cluster['product_id'].unique()\n",
    "    reordered_true = df_cluster['product_id'].where(df_cluster['reordered'] == 1).unique()\n",
    "    \n",
    "    \n",
    "    for i in product_list:\n",
    "\n",
    "        if i in reordered_true:\n",
    "            pass\n",
    "        else:\n",
    "            never_reordered.append(i)\n",
    "        \n",
    "     \n",
    "    print(len(never_reordered))\n",
    "    \n",
    "    count=1\n",
    "    \n",
    "    new_df = []\n",
    "    \n",
    "    for idx,row in df_cluster.iterrows():\n",
    "        \n",
    "        if count in [20,100000,500000,1000000,2000000,3000000,4000000,5000000]:\n",
    "            print(f'finished: {count}')\n",
    "                  \n",
    "        if row.user_id in never_reordered:\n",
    "            pass\n",
    "        else:\n",
    "            new_df.append(tuple(df_cluster.loc[idx]))\n",
    "        count+=1\n",
    "        \n",
    "#     for i in never_reordered:\n",
    "#         print(count)\n",
    "#         df_cluster = df_cluster[df_cluster.product_id != i]\n",
    "#         count+=1\n",
    "    \n",
    "    \n",
    "    return new_df\n",
    "    "
   ]
  },
  {
   "cell_type": "code",
   "execution_count": 3,
   "metadata": {},
   "outputs": [],
   "source": [
    "cluster3 = pd.read_csv(\"c:/users/hello/desktop/mlfinal/clean/cluster_separated/cluster3_raw.csv\")"
   ]
  },
  {
   "cell_type": "code",
   "execution_count": 4,
   "metadata": {},
   "outputs": [
    {
     "data": {
      "text/plain": [
       "5684689"
      ]
     },
     "execution_count": 4,
     "metadata": {},
     "output_type": "execute_result"
    }
   ],
   "source": [
    "len(cluster3['product_id'])"
   ]
  },
  {
   "cell_type": "code",
   "execution_count": 7,
   "metadata": {},
   "outputs": [
    {
     "name": "stdout",
     "output_type": "stream",
     "text": [
      "10198\n",
      "finished: 20\n",
      "finished: 100000\n",
      "finished: 500000\n",
      "finished: 1000000\n",
      "finished: 2000000\n",
      "finished: 3000000\n",
      "finished: 4000000\n",
      "finished: 5000000\n"
     ]
    }
   ],
   "source": [
    "cluster_reorderedtrue = items_reordered_cluster(cluster3)"
   ]
  },
  {
   "cell_type": "code",
   "execution_count": 8,
   "metadata": {},
   "outputs": [],
   "source": [
    "cluster3_uniques = pd.DataFrame(cluster_reorderedtrue, columns = list(cluster3))"
   ]
  },
  {
   "cell_type": "code",
   "execution_count": 9,
   "metadata": {},
   "outputs": [],
   "source": [
    "cluster3_uniques.to_csv(\"c:/users/hello/desktop/mlfinal/clean/cluster_separated/cluster3_reorderedtrue.csv\")"
   ]
  },
  {
   "cell_type": "code",
   "execution_count": 12,
   "metadata": {},
   "outputs": [],
   "source": [
    "#####write to csv\n",
    "\n",
    "# cluster_reorderedtrue = items_reordered_cluster(cluster0)\n",
    "# cluster_reorderedtrue.to_csv(\"c:/users/hello/desktop/mlfinal/clean/cluster_separated/cluster0_reorderedtrue.csv\")\n",
    "\n",
    "# cluster_reorderedtrue = items_reordered_cluster(cluster1)\n",
    "# cluster_reorderedtrue.to_csv(\"c:/users/hello/desktop/mlfinal/clean/cluster_separated/cluster1_reorderedtrue.csv\")\n",
    "\n",
    "# cluster_reorderedtrue = items_reordered_cluster(cluster2)\n",
    "# cluster_reorderedtrue.to_csv(\"c:/users/hello/desktop/mlfinal/clean/cluster_separated/cluster2_reorderedtrue.csv\")\n",
    "\n",
    "# cluster_reorderedtrue = items_reordered_cluster(cluster3)\n",
    "# cluster_reorderedtrue.to_csv(\"c:/users/hello/desktop/mlfinal/clean/cluster_separated/cluster3_reorderedtrue.csv\")"
   ]
  },
  {
   "cell_type": "markdown",
   "metadata": {},
   "source": [
    "# For each user, given their cart, predict reorder"
   ]
  },
  {
   "cell_type": "code",
   "execution_count": null,
   "metadata": {},
   "outputs": [],
   "source": [
    "# c0_reorderedtrue = items_reordered_cluster(cluster0)\n",
    "# c1_reorderedtrue = items_reordered_cluster(cluster1)\n",
    "# c2_reorderedtrue = items_reordered_cluster(cluster2)\n",
    "# c3_reorderedtrue = items_reordered_cluster(cluster3)"
   ]
  },
  {
   "cell_type": "code",
   "execution_count": 137,
   "metadata": {},
   "outputs": [],
   "source": [
    "#csv files containing outputs of the above function that filtered\n",
    "# the dataframe for items that have been reordered at least once\n",
    "\n",
    "# c0_reorderedtrue = pd.read_csv(\"./cluster_separated/cluster0_reordered1.csv\")\n",
    "# c1_reorderedtrue = pd.read_csv(\"./cluster_separated/cluster1_reordered1.csv\")\n",
    "# c2_reorderedtrue = pd.read_csv(\"./cluster_separated/cluster2_reordered1.csv\")\n",
    "# c3_reorderedtrue = pd.read_csv(\"./cluster_separated/cluster3_reordered1.csv\")\n",
    "# c4_reorderedtrue = pd.read_csv(\"./cluster_separated/cluster4_reordered1.csv\")"
   ]
  },
  {
   "cell_type": "code",
   "execution_count": 99,
   "metadata": {},
   "outputs": [
    {
     "data": {
      "text/html": [
       "<div>\n",
       "<style scoped>\n",
       "    .dataframe tbody tr th:only-of-type {\n",
       "        vertical-align: middle;\n",
       "    }\n",
       "\n",
       "    .dataframe tbody tr th {\n",
       "        vertical-align: top;\n",
       "    }\n",
       "\n",
       "    .dataframe thead th {\n",
       "        text-align: right;\n",
       "    }\n",
       "</style>\n",
       "<table border=\"1\" class=\"dataframe\">\n",
       "  <thead>\n",
       "    <tr style=\"text-align: right;\">\n",
       "      <th></th>\n",
       "      <th>User Id</th>\n",
       "      <th>Order Id</th>\n",
       "      <th>Add To Cart Order</th>\n",
       "      <th>Aisle Id</th>\n",
       "      <th>Aisle</th>\n",
       "      <th>Department Id</th>\n",
       "      <th>Department</th>\n",
       "      <th>Product_Id</th>\n",
       "      <th>Product Name</th>\n",
       "      <th>Cluster</th>\n",
       "      <th>Days Since Prior Order</th>\n",
       "      <th>Order Dow</th>\n",
       "      <th>Order Hour Of Day</th>\n",
       "      <th>Order Number</th>\n",
       "      <th>Eval Set</th>\n",
       "      <th>Reordered</th>\n",
       "    </tr>\n",
       "  </thead>\n",
       "  <tbody>\n",
       "    <tr>\n",
       "      <td>0</td>\n",
       "      <td>138431</td>\n",
       "      <td>4908</td>\n",
       "      <td>1</td>\n",
       "      <td>27</td>\n",
       "      <td>beers coolers</td>\n",
       "      <td>5</td>\n",
       "      <td>alcohol</td>\n",
       "      <td>2054</td>\n",
       "      <td>Belgium Beer</td>\n",
       "      <td>0</td>\n",
       "      <td>30</td>\n",
       "      <td>0</td>\n",
       "      <td>3</td>\n",
       "      <td>3</td>\n",
       "      <td>prior</td>\n",
       "      <td>0</td>\n",
       "    </tr>\n",
       "    <tr>\n",
       "      <td>1</td>\n",
       "      <td>108477</td>\n",
       "      <td>12070</td>\n",
       "      <td>6</td>\n",
       "      <td>92</td>\n",
       "      <td>baby food formula</td>\n",
       "      <td>18</td>\n",
       "      <td>babies</td>\n",
       "      <td>43875</td>\n",
       "      <td>Baby Food Stage 2 Blueberry Pear &amp; Purple Carrot</td>\n",
       "      <td>0</td>\n",
       "      <td>23</td>\n",
       "      <td>0</td>\n",
       "      <td>8</td>\n",
       "      <td>3</td>\n",
       "      <td>prior</td>\n",
       "      <td>0</td>\n",
       "    </tr>\n",
       "    <tr>\n",
       "      <td>2</td>\n",
       "      <td>108477</td>\n",
       "      <td>12070</td>\n",
       "      <td>7</td>\n",
       "      <td>92</td>\n",
       "      <td>baby food formula</td>\n",
       "      <td>18</td>\n",
       "      <td>babies</td>\n",
       "      <td>5114</td>\n",
       "      <td>Peach,  Apricot &amp; Banana Stage 2 Baby Food</td>\n",
       "      <td>0</td>\n",
       "      <td>23</td>\n",
       "      <td>0</td>\n",
       "      <td>8</td>\n",
       "      <td>3</td>\n",
       "      <td>prior</td>\n",
       "      <td>0</td>\n",
       "    </tr>\n",
       "    <tr>\n",
       "      <td>3</td>\n",
       "      <td>108477</td>\n",
       "      <td>12070</td>\n",
       "      <td>8</td>\n",
       "      <td>92</td>\n",
       "      <td>baby food formula</td>\n",
       "      <td>18</td>\n",
       "      <td>babies</td>\n",
       "      <td>24413</td>\n",
       "      <td>Organic Strawberry Banana Fruit Yogurt Smoothie</td>\n",
       "      <td>0</td>\n",
       "      <td>23</td>\n",
       "      <td>0</td>\n",
       "      <td>8</td>\n",
       "      <td>3</td>\n",
       "      <td>prior</td>\n",
       "      <td>0</td>\n",
       "    </tr>\n",
       "    <tr>\n",
       "      <td>4</td>\n",
       "      <td>108477</td>\n",
       "      <td>12070</td>\n",
       "      <td>9</td>\n",
       "      <td>92</td>\n",
       "      <td>baby food formula</td>\n",
       "      <td>18</td>\n",
       "      <td>babies</td>\n",
       "      <td>19627</td>\n",
       "      <td>Butternut Squash Pear Stage 2 Baby Food</td>\n",
       "      <td>0</td>\n",
       "      <td>23</td>\n",
       "      <td>0</td>\n",
       "      <td>8</td>\n",
       "      <td>3</td>\n",
       "      <td>prior</td>\n",
       "      <td>0</td>\n",
       "    </tr>\n",
       "  </tbody>\n",
       "</table>\n",
       "</div>"
      ],
      "text/plain": [
       "   User Id  Order Id  Add To Cart Order  Aisle Id              Aisle  \\\n",
       "0   138431      4908                  1        27      beers coolers   \n",
       "1   108477     12070                  6        92  baby food formula   \n",
       "2   108477     12070                  7        92  baby food formula   \n",
       "3   108477     12070                  8        92  baby food formula   \n",
       "4   108477     12070                  9        92  baby food formula   \n",
       "\n",
       "   Department Id Department  Product_Id  \\\n",
       "0              5    alcohol        2054   \n",
       "1             18     babies       43875   \n",
       "2             18     babies        5114   \n",
       "3             18     babies       24413   \n",
       "4             18     babies       19627   \n",
       "\n",
       "                                       Product Name  Cluster  \\\n",
       "0                                      Belgium Beer        0   \n",
       "1  Baby Food Stage 2 Blueberry Pear & Purple Carrot        0   \n",
       "2        Peach,  Apricot & Banana Stage 2 Baby Food        0   \n",
       "3   Organic Strawberry Banana Fruit Yogurt Smoothie        0   \n",
       "4           Butternut Squash Pear Stage 2 Baby Food        0   \n",
       "\n",
       "   Days Since Prior Order  Order Dow  Order Hour Of Day  Order Number  \\\n",
       "0                      30          0                  3             3   \n",
       "1                      23          0                  8             3   \n",
       "2                      23          0                  8             3   \n",
       "3                      23          0                  8             3   \n",
       "4                      23          0                  8             3   \n",
       "\n",
       "  Eval Set  Reordered  \n",
       "0    prior          0  \n",
       "1    prior          0  \n",
       "2    prior          0  \n",
       "3    prior          0  \n",
       "4    prior          0  "
      ]
     },
     "execution_count": 99,
     "metadata": {},
     "output_type": "execute_result"
    }
   ],
   "source": [
    "c0_reorderedtrue.head()"
   ]
  },
  {
   "cell_type": "code",
   "execution_count": null,
   "metadata": {},
   "outputs": [],
   "source": [
    "#for each product, calculate the reorder percentage and add that into the dataframe\n",
    "#maybe do for aisle as well\n",
    "# add to cart order. probability of reorder of aisle item given add to cart order"
   ]
  },
  {
   "cell_type": "markdown",
   "metadata": {},
   "source": [
    "# Calculate features for classifier"
   ]
  },
  {
   "cell_type": "code",
   "execution_count": 125,
   "metadata": {},
   "outputs": [],
   "source": [
    "# for each cluster, calculate the percentage of items reordered given its 'Add to Cart Order Value'\n",
    "\n",
    "def reorder_addtocart(cluster_df):\n",
    "    \n",
    "    \n",
    "    added_to_cartorder = cluster_df['Add To Cart Order'].unique()\n",
    "    \n",
    "    Add_to_cart_order = []\n",
    "    \n",
    "    for i in added_to_cartorder:\n",
    "        cluster_addcartorder = cluster_df[cluster_df['Add To Cart Order'] == i]\n",
    "        addcartorder_percent = cluster_addcartorder['Reordered'].sum() / len(cluster_addcartorder['Reordered'])\n",
    "        \n",
    "        Add_to_cart_order.append((i,addcartorder_percent))\n",
    "    \n",
    "    df_cartorder = pd.DataFrame(Add_to_cart_order, columns= ['Add_to_cart_order','Percent_atco'])\n",
    "    return df_cartorder"
   ]
  },
  {
   "cell_type": "code",
   "execution_count": 128,
   "metadata": {},
   "outputs": [],
   "source": [
    "# for each cluster, calculate the percentage of items reordered for each aisle\n",
    "\n",
    "def reorder_aisle(cluster_df):\n",
    "    \n",
    "    aisle_order = cluster_df['Aisle Id'].unique()\n",
    "    \n",
    "    aisle_reorderpercent = []\n",
    "    \n",
    "    for i in aisle_order:\n",
    "        cluster_aisle = cluster_df[cluster_df['Aisle Id'] == i]\n",
    "        aisle_percent = cluster_aisle['Reordered'].sum() / len(cluster_aisle['Reordered'])\n",
    "        aisle_reorderpercent.append((i,aisle_percent))\n",
    "        \n",
    "    df_aisleorder = pd.DataFrame(aisle_reorderpercent, columns= ['Aisle_Id','Percent_aisle'])\n",
    "    \n",
    "    return df_aisleorder"
   ]
  },
  {
   "cell_type": "code",
   "execution_count": 131,
   "metadata": {},
   "outputs": [],
   "source": [
    "# calculate reorder percentage for each individual product\n",
    "\n",
    "def reorder_product(cluster_df):\n",
    "    \n",
    "    product_order = cluster_df['Product_Id'].unique()\n",
    "    \n",
    "    product_reorderpercent = []\n",
    "   \n",
    "    for i in product_order:\n",
    "        cluster_product = cluster_df[cluster_df['Product_Id'] == i]\n",
    "        product_percent = cluster_product['Reordered'].sum() / len(cluster_product['Reordered'])\n",
    "        product_reorderpercent.append((i,product_percent))\n",
    "        \n",
    "    df_productorder = pd.DataFrame(product_reorderpercent, columns= ['Product_Id','Percent_product'])\n",
    "    \n",
    "    return df_productorder"
   ]
  },
  {
   "cell_type": "code",
   "execution_count": 138,
   "metadata": {},
   "outputs": [],
   "source": [
    "## Merge values from the 3 above functions into the main cluster data frames.\n",
    "## Each cluster has its own file\n",
    "\n",
    "\n",
    "# ro_cart = reorder_addtocart(c0_reorderedtrue)\n",
    "# ro_aisle = reorder_aisle(c0_reorderedtrue)\n",
    "# ro_product = reorder_product(c0_reorderedtrue)\n",
    "\n",
    "# c0_reorderedtrue = c0_reorderedtrue.merge(ro_cart, left_on='Add To Cart Order', right_on='Add_to_cart_order')\n",
    "# c0_reorderedtrue = c0_reorderedtrue.merge(ro_aisle, left_on='Aisle Id', right_on='Aisle_Id')\n",
    "# c0_final = c0_reorderedtrue.merge(ro_product, left_on='Product_Id', right_on='Product_Id')\n",
    "\n",
    "# c0_final.to_csv(\"./cluster_separated/cluster0_finalmerged.csv\")\n",
    "\n",
    "\n",
    "#######\n",
    "# ro_cart = reorder_addtocart(c1_reorderedtrue)\n",
    "# ro_aisle = reorder_aisle(c1_reorderedtrue)\n",
    "# ro_product = reorder_product(c1_reorderedtrue)\n",
    "\n",
    "# c1_reorderedtrue = c1_reorderedtrue.merge(ro_cart, left_on='Add To Cart Order', right_on='Add_to_cart_order')\n",
    "# c1_reorderedtrue = c1_reorderedtrue.merge(ro_aisle, left_on='Aisle Id', right_on='Aisle_Id')\n",
    "# c1_final = c1_reorderedtrue.merge(ro_product, left_on='Product_Id', right_on='Product_Id')\n",
    "\n",
    "# c1_final.to_csv(\"./cluster_separated/cluster1_finalmerged.csv\")\n",
    "\n",
    "\n",
    "####\n",
    "# ro_cart = reorder_addtocart(c2_reorderedtrue)\n",
    "# ro_aisle = reorder_aisle(c2_reorderedtrue)\n",
    "# ro_product = reorder_product(c2_reorderedtrue)\n",
    "\n",
    "# c2_reorderedtrue = c2_reorderedtrue.merge(ro_cart, left_on='Add To Cart Order', right_on='Add_to_cart_order')\n",
    "# c2_reorderedtrue = c2_reorderedtrue.merge(ro_aisle, left_on='Aisle Id', right_on='Aisle_Id')\n",
    "# c2_final = c2_reorderedtrue.merge(ro_product, left_on='Product_Id', right_on='Product_Id')\n",
    "\n",
    "# c2_final.to_csv(\"./cluster_separated/cluster2_finalmerged.csv\")\n",
    "\n",
    "\n",
    "#####\n",
    "# ro_cart = reorder_addtocart(c3_reorderedtrue)\n",
    "# ro_aisle = reorder_aisle(c3_reorderedtrue)\n",
    "# ro_product = reorder_product(c3_reorderedtrue)\n",
    "\n",
    "# c3_reorderedtrue = c3_reorderedtrue.merge(ro_cart, left_on='Add To Cart Order', right_on='Add_to_cart_order')\n",
    "# c3_reorderedtrue = c3_reorderedtrue.merge(ro_aisle, left_on='Aisle Id', right_on='Aisle_Id')\n",
    "# c3_final = c3_reorderedtrue.merge(ro_product, left_on='Product_Id', right_on='Product_Id')\n",
    "\n",
    "# c3_final.to_csv(\"./cluster_separated/cluster3_finalmerged.csv\")\n"
   ]
  },
  {
   "cell_type": "markdown",
   "metadata": {},
   "source": [
    "# test data create"
   ]
  },
  {
   "cell_type": "code",
   "execution_count": 195,
   "metadata": {},
   "outputs": [],
   "source": [
    "testdata = pd.read_csv(\"./trainjoined_train.csv\")\n",
    "userid_cluster_table = pd.read_csv(\"./userid_cluster.csv\")"
   ]
  },
  {
   "cell_type": "code",
   "execution_count": 196,
   "metadata": {},
   "outputs": [],
   "source": [
    "testdata0 = testdata.merge(userid_cluster_table, left_on='User Id', right_on='User Id')"
   ]
  },
  {
   "cell_type": "code",
   "execution_count": 204,
   "metadata": {},
   "outputs": [],
   "source": [
    "#testdata0 = testdata0[testdata0['group']==0]\n",
    "testdata1 = testdata0[testdata0['group']==1]\n",
    "testdata2 = testdata0[testdata0['group']==2]\n",
    "testdata3 = testdata0[testdata0['group']==3]"
   ]
  },
  {
   "cell_type": "code",
   "execution_count": 200,
   "metadata": {},
   "outputs": [],
   "source": [
    "# #create test set for Cluster 0 data\n",
    "\n",
    "# ro_cart = reorder_addtocart(c1_reorderedtrue)\n",
    "# ro_aisle = reorder_aisle(c1_reorderedtrue)\n",
    "# ro_product = reorder_product(c1_reorderedtrue)\n",
    "\n",
    "# testdata1 = testdata1.merge(ro_cart, left_on='Add To Cart Order', right_on='Add_to_cart_order')\n",
    "# testdata1 = testdata1.merge(ro_aisle, left_on='Aisle Id', right_on='Aisle_Id')\n",
    "# testdata1_final = testdata1.merge(ro_product, left_on='Product_Id', right_on='Product_Id')\n",
    "\n",
    "# testdata1_final.to_csv(\"./cluster_separated/cluster1_testmerged.csv\")\n",
    "\n",
    "# ######\n",
    "\n",
    "# ro_cart = reorder_addtocart(c2_reorderedtrue)\n",
    "# ro_aisle = reorder_aisle(c2_reorderedtrue)\n",
    "# ro_product = reorder_product(c2_reorderedtrue)\n",
    "\n",
    "# testdata2 = testdata2.merge(ro_cart, left_on='Add To Cart Order', right_on='Add_to_cart_order')\n",
    "# testdata2 = testdata2.merge(ro_aisle, left_on='Aisle Id', right_on='Aisle_Id')\n",
    "# testdata2_final = testdata2.merge(ro_product, left_on='Product_Id', right_on='Product_Id')\n",
    "\n",
    "# testdata2_final.to_csv(\"./cluster_separated/cluster2_testmerged.csv\")\n",
    "\n",
    "\n",
    "# #######\n",
    "\n",
    "# ro_cart = reorder_addtocart(c3_reorderedtrue)\n",
    "# ro_aisle = reorder_aisle(c3_reorderedtrue)\n",
    "# ro_product = reorder_product(c3_reorderedtrue)\n",
    "\n",
    "# testdata3 = testdata3.merge(ro_cart, left_on='Add To Cart Order', right_on='Add_to_cart_order')\n",
    "# testdata3 = testdata3.merge(ro_aisle, left_on='Aisle Id', right_on='Aisle_Id')\n",
    "# testdata3_final = testdata3.merge(ro_product, left_on='Product_Id', right_on='Product_Id')\n",
    "\n",
    "# testdata3_final.to_csv(\"./cluster_separated/cluster3_testmerged.csv\")\n",
    "\n",
    "\n",
    "# #######\n",
    "\n",
    "# ro_cart = reorder_addtocart(c4_reorderedtrue)\n",
    "# ro_aisle = reorder_aisle(c4_reorderedtrue)\n",
    "# ro_product = reorder_product(c4_reorderedtrue)\n",
    "\n",
    "# testdata4 = testdata4.merge(ro_cart, left_on='Add To Cart Order', right_on='Add_to_cart_order')\n",
    "# testdata4 = testdata4.merge(ro_aisle, left_on='Aisle Id', right_on='Aisle_Id')\n",
    "# testdata4_final = testdata4.merge(ro_product, left_on='Product_Id', right_on='Product_Id')\n",
    "\n",
    "# testdata4_final.to_csv(\"./cluster_separated/cluster4_testmerged.csv\")"
   ]
  }
 ],
 "metadata": {
  "kernelspec": {
   "display_name": "Python 3",
   "language": "python",
   "name": "python3"
  },
  "language_info": {
   "codemirror_mode": {
    "name": "ipython",
    "version": 3
   },
   "file_extension": ".py",
   "mimetype": "text/x-python",
   "name": "python",
   "nbconvert_exporter": "python",
   "pygments_lexer": "ipython3",
   "version": "3.7.4"
  }
 },
 "nbformat": 4,
 "nbformat_minor": 2
}
