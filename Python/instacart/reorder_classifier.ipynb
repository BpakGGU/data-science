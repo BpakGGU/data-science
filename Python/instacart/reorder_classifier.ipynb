{
 "cells": [
  {
   "cell_type": "markdown",
   "metadata": {},
   "source": [
    "# Need to update this for changes in dataset. everything I need is here though"
   ]
  },
  {
   "cell_type": "markdown",
   "metadata": {},
   "source": [
    "# Testing Classification"
   ]
  },
  {
   "cell_type": "code",
   "execution_count": 1,
   "metadata": {},
   "outputs": [],
   "source": [
    "import pandas as pd"
   ]
  },
  {
   "cell_type": "code",
   "execution_count": 2,
   "metadata": {},
   "outputs": [],
   "source": [
    "dataset = pd.read_csv(\"c:/users/hello/desktop/mlfinal/clean/priordata_clean.csv\")"
   ]
  },
  {
   "cell_type": "code",
   "execution_count": 3,
   "metadata": {},
   "outputs": [],
   "source": [
    "cluster_data = pd.read_csv(\"c:/users/hello/desktop/mlfinal/clean/user_and_cluster.csv\")"
   ]
  },
  {
   "cell_type": "code",
   "execution_count": 4,
   "metadata": {},
   "outputs": [],
   "source": [
    "dataset=dataset.drop(columns=['Unnamed: 0'])"
   ]
  },
  {
   "cell_type": "code",
   "execution_count": null,
   "metadata": {},
   "outputs": [],
   "source": [
    "#dataset.head()"
   ]
  },
  {
   "cell_type": "code",
   "execution_count": 5,
   "metadata": {},
   "outputs": [
    {
     "data": {
      "text/html": [
       "<div>\n",
       "<style scoped>\n",
       "    .dataframe tbody tr th:only-of-type {\n",
       "        vertical-align: middle;\n",
       "    }\n",
       "\n",
       "    .dataframe tbody tr th {\n",
       "        vertical-align: top;\n",
       "    }\n",
       "\n",
       "    .dataframe thead th {\n",
       "        text-align: right;\n",
       "    }\n",
       "</style>\n",
       "<table border=\"1\" class=\"dataframe\">\n",
       "  <thead>\n",
       "    <tr style=\"text-align: right;\">\n",
       "      <th></th>\n",
       "      <th>user_id</th>\n",
       "      <th>cluster</th>\n",
       "    </tr>\n",
       "  </thead>\n",
       "  <tbody>\n",
       "    <tr>\n",
       "      <td>0</td>\n",
       "      <td>1</td>\n",
       "      <td>1</td>\n",
       "    </tr>\n",
       "    <tr>\n",
       "      <td>1</td>\n",
       "      <td>21</td>\n",
       "      <td>0</td>\n",
       "    </tr>\n",
       "    <tr>\n",
       "      <td>2</td>\n",
       "      <td>43</td>\n",
       "      <td>0</td>\n",
       "    </tr>\n",
       "    <tr>\n",
       "      <td>3</td>\n",
       "      <td>52</td>\n",
       "      <td>0</td>\n",
       "    </tr>\n",
       "    <tr>\n",
       "      <td>4</td>\n",
       "      <td>67</td>\n",
       "      <td>1</td>\n",
       "    </tr>\n",
       "  </tbody>\n",
       "</table>\n",
       "</div>"
      ],
      "text/plain": [
       "   user_id  cluster\n",
       "0        1        1\n",
       "1       21        0\n",
       "2       43        0\n",
       "3       52        0\n",
       "4       67        1"
      ]
     },
     "execution_count": 5,
     "metadata": {},
     "output_type": "execute_result"
    }
   ],
   "source": [
    "cluster_data.head()"
   ]
  },
  {
   "cell_type": "code",
   "execution_count": 6,
   "metadata": {},
   "outputs": [],
   "source": [
    "dataset_clusters = dataset.merge(cluster_data, left_on='user_id', right_on='user_id')"
   ]
  },
  {
   "cell_type": "code",
   "execution_count": 8,
   "metadata": {},
   "outputs": [
    {
     "data": {
      "text/html": [
       "<div>\n",
       "<style scoped>\n",
       "    .dataframe tbody tr th:only-of-type {\n",
       "        vertical-align: middle;\n",
       "    }\n",
       "\n",
       "    .dataframe tbody tr th {\n",
       "        vertical-align: top;\n",
       "    }\n",
       "\n",
       "    .dataframe thead th {\n",
       "        text-align: right;\n",
       "    }\n",
       "</style>\n",
       "<table border=\"1\" class=\"dataframe\">\n",
       "  <thead>\n",
       "    <tr style=\"text-align: right;\">\n",
       "      <th></th>\n",
       "      <th>order_id</th>\n",
       "      <th>user_id</th>\n",
       "      <th>order_number</th>\n",
       "      <th>order_dow</th>\n",
       "      <th>order_hour_of_day</th>\n",
       "      <th>days_since_prior_order</th>\n",
       "      <th>product_id</th>\n",
       "      <th>add_to_cart_order</th>\n",
       "      <th>reordered</th>\n",
       "      <th>aisle_id</th>\n",
       "      <th>department_id</th>\n",
       "      <th>cluster</th>\n",
       "    </tr>\n",
       "  </thead>\n",
       "  <tbody>\n",
       "    <tr>\n",
       "      <td>0</td>\n",
       "      <td>2539329</td>\n",
       "      <td>1</td>\n",
       "      <td>1</td>\n",
       "      <td>2</td>\n",
       "      <td>8</td>\n",
       "      <td>0.0</td>\n",
       "      <td>196</td>\n",
       "      <td>1</td>\n",
       "      <td>0</td>\n",
       "      <td>77</td>\n",
       "      <td>7</td>\n",
       "      <td>1</td>\n",
       "    </tr>\n",
       "    <tr>\n",
       "      <td>1</td>\n",
       "      <td>2550362</td>\n",
       "      <td>1</td>\n",
       "      <td>10</td>\n",
       "      <td>4</td>\n",
       "      <td>8</td>\n",
       "      <td>30.0</td>\n",
       "      <td>196</td>\n",
       "      <td>1</td>\n",
       "      <td>1</td>\n",
       "      <td>77</td>\n",
       "      <td>7</td>\n",
       "      <td>1</td>\n",
       "    </tr>\n",
       "    <tr>\n",
       "      <td>2</td>\n",
       "      <td>3108588</td>\n",
       "      <td>1</td>\n",
       "      <td>8</td>\n",
       "      <td>1</td>\n",
       "      <td>14</td>\n",
       "      <td>14.0</td>\n",
       "      <td>196</td>\n",
       "      <td>2</td>\n",
       "      <td>1</td>\n",
       "      <td>77</td>\n",
       "      <td>7</td>\n",
       "      <td>1</td>\n",
       "    </tr>\n",
       "    <tr>\n",
       "      <td>3</td>\n",
       "      <td>550135</td>\n",
       "      <td>1</td>\n",
       "      <td>7</td>\n",
       "      <td>1</td>\n",
       "      <td>9</td>\n",
       "      <td>20.0</td>\n",
       "      <td>196</td>\n",
       "      <td>1</td>\n",
       "      <td>1</td>\n",
       "      <td>77</td>\n",
       "      <td>7</td>\n",
       "      <td>1</td>\n",
       "    </tr>\n",
       "    <tr>\n",
       "      <td>4</td>\n",
       "      <td>2295261</td>\n",
       "      <td>1</td>\n",
       "      <td>9</td>\n",
       "      <td>1</td>\n",
       "      <td>16</td>\n",
       "      <td>0.0</td>\n",
       "      <td>196</td>\n",
       "      <td>4</td>\n",
       "      <td>1</td>\n",
       "      <td>77</td>\n",
       "      <td>7</td>\n",
       "      <td>1</td>\n",
       "    </tr>\n",
       "  </tbody>\n",
       "</table>\n",
       "</div>"
      ],
      "text/plain": [
       "   order_id  user_id  order_number  order_dow  order_hour_of_day  \\\n",
       "0   2539329        1             1          2                  8   \n",
       "1   2550362        1            10          4                  8   \n",
       "2   3108588        1             8          1                 14   \n",
       "3    550135        1             7          1                  9   \n",
       "4   2295261        1             9          1                 16   \n",
       "\n",
       "   days_since_prior_order  product_id  add_to_cart_order  reordered  aisle_id  \\\n",
       "0                     0.0         196                  1          0        77   \n",
       "1                    30.0         196                  1          1        77   \n",
       "2                    14.0         196                  2          1        77   \n",
       "3                    20.0         196                  1          1        77   \n",
       "4                     0.0         196                  4          1        77   \n",
       "\n",
       "   department_id  cluster  \n",
       "0              7        1  \n",
       "1              7        1  \n",
       "2              7        1  \n",
       "3              7        1  \n",
       "4              7        1  "
      ]
     },
     "execution_count": 8,
     "metadata": {},
     "output_type": "execute_result"
    }
   ],
   "source": [
    "dataset_clusters.head()"
   ]
  },
  {
   "cell_type": "code",
   "execution_count": 9,
   "metadata": {},
   "outputs": [],
   "source": [
    "#loaded each of the datasets and grouped by clusters for individual tuning\n",
    "\n",
    "cluster0 = dataset_clusters[dataset_clusters['cluster']==0]\n",
    "cluster1 = dataset_clusters[dataset_clusters['cluster']==1]\n",
    "cluster2 = dataset_clusters[dataset_clusters['cluster']==2]\n",
    "cluster3 = dataset_clusters[dataset_clusters['cluster']==3]"
   ]
  },
  {
   "cell_type": "code",
   "execution_count": 11,
   "metadata": {},
   "outputs": [
    {
     "data": {
      "text/plain": [
       "49468"
      ]
     },
     "execution_count": 11,
     "metadata": {},
     "output_type": "execute_result"
    }
   ],
   "source": [
    "#original dataset is defined by 49468 unique products\n",
    "\n",
    "len(dataset_clusters['product_id'].unique())"
   ]
  },
  {
   "cell_type": "code",
   "execution_count": 13,
   "metadata": {},
   "outputs": [
    {
     "name": "stdout",
     "output_type": "stream",
     "text": [
      "46498\n",
      "46815\n",
      "32117\n",
      "42485\n"
     ]
    }
   ],
   "source": [
    "print(len(cluster0['product_id'].unique()))\n",
    "print(len(cluster1['product_id'].unique()))\n",
    "print(len(cluster2['product_id'].unique()))\n",
    "print(len(cluster3['product_id'].unique()))"
   ]
  },
  {
   "cell_type": "code",
   "execution_count": 16,
   "metadata": {},
   "outputs": [
    {
     "name": "stdout",
     "output_type": "stream",
     "text": [
      "35636\n",
      "33111\n",
      "23627\n",
      "32288\n"
     ]
    }
   ],
   "source": [
    "#further decreased the Product catalogue for each cluster by identifying all items that have been reordered\n",
    "#at least once\n",
    "\n",
    "print(len(cluster0['product_id'].where(cluster0['reordered'] == 1).unique()))\n",
    "print(len(cluster1['product_id'].where(cluster1['reordered'] == 1).unique()))\n",
    "print(len(cluster2['product_id'].where(cluster2['reordered'] == 1).unique()))\n",
    "print(len(cluster3['product_id'].where(cluster3['reordered'] == 1).unique()))"
   ]
  },
  {
   "cell_type": "code",
   "execution_count": 21,
   "metadata": {},
   "outputs": [],
   "source": [
    "#recreate the cluster dataframes to include only items that have been reordered at least once\n",
    "\n",
    "\n",
    "def items_reordered_cluster(df_cluster):\n",
    "    \n",
    "    never_reordered = []\n",
    "    \n",
    "    \n",
    "    product_list = df_cluster['product_id'].unique()\n",
    "    reordered_true = df_cluster['product_id'].where(df_cluster['reordered'] == 1).unique()\n",
    "    \n",
    "    for i in product_list:\n",
    "        if i in reordered_true:\n",
    "            pass\n",
    "        else:\n",
    "            never_reordered.append(i)\n",
    "    \n",
    "    for i in never_reordered:\n",
    "        df_cluster = df_cluster[df_cluster.product_id != i]\n",
    "    \n",
    "    return df_cluster\n",
    "    "
   ]
  },
  {
   "cell_type": "code",
   "execution_count": 22,
   "metadata": {},
   "outputs": [
    {
     "ename": "KeyboardInterrupt",
     "evalue": "",
     "output_type": "error",
     "traceback": [
      "\u001b[1;31m---------------------------------------------------------------------------\u001b[0m",
      "\u001b[1;31mKeyboardInterrupt\u001b[0m                         Traceback (most recent call last)",
      "\u001b[1;32m<ipython-input-22-e9e4e39ca30f>\u001b[0m in \u001b[0;36m<module>\u001b[1;34m\u001b[0m\n\u001b[0;32m      1\u001b[0m \u001b[1;31m##write to csv\u001b[0m\u001b[1;33m\u001b[0m\u001b[1;33m\u001b[0m\u001b[1;33m\u001b[0m\u001b[0m\n\u001b[0;32m      2\u001b[0m \u001b[1;33m\u001b[0m\u001b[0m\n\u001b[1;32m----> 3\u001b[1;33m \u001b[0mcluster_reorderedtrue\u001b[0m \u001b[1;33m=\u001b[0m \u001b[0mitems_reordered_cluster\u001b[0m\u001b[1;33m(\u001b[0m\u001b[0mcluster0\u001b[0m\u001b[1;33m)\u001b[0m\u001b[1;33m\u001b[0m\u001b[1;33m\u001b[0m\u001b[0m\n\u001b[0m\u001b[0;32m      4\u001b[0m \u001b[0mcluster_reorderedtrue\u001b[0m\u001b[1;33m.\u001b[0m\u001b[0mto_csv\u001b[0m\u001b[1;33m(\u001b[0m\u001b[1;34m\"c:/users/hello/desktop/mlfinal/clean/cluster_separated/cluster0_reorderedtrue.csv\"\u001b[0m\u001b[1;33m)\u001b[0m\u001b[1;33m\u001b[0m\u001b[1;33m\u001b[0m\u001b[0m\n\u001b[0;32m      5\u001b[0m \u001b[1;33m\u001b[0m\u001b[0m\n",
      "\u001b[1;32m<ipython-input-21-7ec15c52ed6e>\u001b[0m in \u001b[0;36mitems_reordered_cluster\u001b[1;34m(df_cluster)\u001b[0m\n\u001b[0;32m     17\u001b[0m \u001b[1;33m\u001b[0m\u001b[0m\n\u001b[0;32m     18\u001b[0m     \u001b[1;32mfor\u001b[0m \u001b[0mi\u001b[0m \u001b[1;32min\u001b[0m \u001b[0mnever_reordered\u001b[0m\u001b[1;33m:\u001b[0m\u001b[1;33m\u001b[0m\u001b[1;33m\u001b[0m\u001b[0m\n\u001b[1;32m---> 19\u001b[1;33m         \u001b[0mdf_cluster\u001b[0m \u001b[1;33m=\u001b[0m \u001b[0mdf_cluster\u001b[0m\u001b[1;33m[\u001b[0m\u001b[0mdf_cluster\u001b[0m\u001b[1;33m.\u001b[0m\u001b[0mproduct_id\u001b[0m \u001b[1;33m!=\u001b[0m \u001b[0mi\u001b[0m\u001b[1;33m]\u001b[0m\u001b[1;33m\u001b[0m\u001b[1;33m\u001b[0m\u001b[0m\n\u001b[0m\u001b[0;32m     20\u001b[0m \u001b[1;33m\u001b[0m\u001b[0m\n\u001b[0;32m     21\u001b[0m     \u001b[1;32mreturn\u001b[0m \u001b[0mdf_cluster\u001b[0m\u001b[1;33m\u001b[0m\u001b[1;33m\u001b[0m\u001b[0m\n",
      "\u001b[1;32m~\\Anaconda3\\lib\\site-packages\\pandas\\core\\frame.py\u001b[0m in \u001b[0;36m__getitem__\u001b[1;34m(self, key)\u001b[0m\n\u001b[0;32m   2969\u001b[0m         \u001b[1;31m# Do we have a (boolean) 1d indexer?\u001b[0m\u001b[1;33m\u001b[0m\u001b[1;33m\u001b[0m\u001b[1;33m\u001b[0m\u001b[0m\n\u001b[0;32m   2970\u001b[0m         \u001b[1;32mif\u001b[0m \u001b[0mcom\u001b[0m\u001b[1;33m.\u001b[0m\u001b[0mis_bool_indexer\u001b[0m\u001b[1;33m(\u001b[0m\u001b[0mkey\u001b[0m\u001b[1;33m)\u001b[0m\u001b[1;33m:\u001b[0m\u001b[1;33m\u001b[0m\u001b[1;33m\u001b[0m\u001b[0m\n\u001b[1;32m-> 2971\u001b[1;33m             \u001b[1;32mreturn\u001b[0m \u001b[0mself\u001b[0m\u001b[1;33m.\u001b[0m\u001b[0m_getitem_bool_array\u001b[0m\u001b[1;33m(\u001b[0m\u001b[0mkey\u001b[0m\u001b[1;33m)\u001b[0m\u001b[1;33m\u001b[0m\u001b[1;33m\u001b[0m\u001b[0m\n\u001b[0m\u001b[0;32m   2972\u001b[0m \u001b[1;33m\u001b[0m\u001b[0m\n\u001b[0;32m   2973\u001b[0m         \u001b[1;31m# We are left with two options: a single key, and a collection of keys,\u001b[0m\u001b[1;33m\u001b[0m\u001b[1;33m\u001b[0m\u001b[1;33m\u001b[0m\u001b[0m\n",
      "\u001b[1;32m~\\Anaconda3\\lib\\site-packages\\pandas\\core\\frame.py\u001b[0m in \u001b[0;36m_getitem_bool_array\u001b[1;34m(self, key)\u001b[0m\n\u001b[0;32m   3022\u001b[0m         \u001b[1;31m# be reindexed to match DataFrame rows\u001b[0m\u001b[1;33m\u001b[0m\u001b[1;33m\u001b[0m\u001b[1;33m\u001b[0m\u001b[0m\n\u001b[0;32m   3023\u001b[0m         \u001b[0mkey\u001b[0m \u001b[1;33m=\u001b[0m \u001b[0mcheck_bool_indexer\u001b[0m\u001b[1;33m(\u001b[0m\u001b[0mself\u001b[0m\u001b[1;33m.\u001b[0m\u001b[0mindex\u001b[0m\u001b[1;33m,\u001b[0m \u001b[0mkey\u001b[0m\u001b[1;33m)\u001b[0m\u001b[1;33m\u001b[0m\u001b[1;33m\u001b[0m\u001b[0m\n\u001b[1;32m-> 3024\u001b[1;33m         \u001b[0mindexer\u001b[0m \u001b[1;33m=\u001b[0m \u001b[0mkey\u001b[0m\u001b[1;33m.\u001b[0m\u001b[0mnonzero\u001b[0m\u001b[1;33m(\u001b[0m\u001b[1;33m)\u001b[0m\u001b[1;33m[\u001b[0m\u001b[1;36m0\u001b[0m\u001b[1;33m]\u001b[0m\u001b[1;33m\u001b[0m\u001b[1;33m\u001b[0m\u001b[0m\n\u001b[0m\u001b[0;32m   3025\u001b[0m         \u001b[1;32mreturn\u001b[0m \u001b[0mself\u001b[0m\u001b[1;33m.\u001b[0m\u001b[0mtake\u001b[0m\u001b[1;33m(\u001b[0m\u001b[0mindexer\u001b[0m\u001b[1;33m,\u001b[0m \u001b[0maxis\u001b[0m\u001b[1;33m=\u001b[0m\u001b[1;36m0\u001b[0m\u001b[1;33m)\u001b[0m\u001b[1;33m\u001b[0m\u001b[1;33m\u001b[0m\u001b[0m\n\u001b[0;32m   3026\u001b[0m \u001b[1;33m\u001b[0m\u001b[0m\n",
      "\u001b[1;31mKeyboardInterrupt\u001b[0m: "
     ]
    }
   ],
   "source": [
    "#####write to csv\n",
    "\n",
    "# cluster_reorderedtrue = items_reordered_cluster(cluster0)\n",
    "# cluster_reorderedtrue.to_csv(\"c:/users/hello/desktop/mlfinal/clean/cluster_separated/cluster0_reorderedtrue.csv\")\n",
    "\n",
    "# cluster_reorderedtrue = items_reordered_cluster(cluster1)\n",
    "# cluster_reorderedtrue.to_csv(\"c:/users/hello/desktop/mlfinal/clean/cluster_separated/cluster1_reorderedtrue.csv\")\n",
    "\n",
    "# cluster_reorderedtrue = items_reordered_cluster(cluster2)\n",
    "# cluster_reorderedtrue.to_csv(\"c:/users/hello/desktop/mlfinal/clean/cluster_separated/cluster2_reorderedtrue.csv\")\n",
    "\n",
    "# cluster_reorderedtrue = items_reordered_cluster(cluster3)\n",
    "# cluster_reorderedtrue.to_csv(\"c:/users/hello/desktop/mlfinal/clean/cluster_separated/cluster3_reorderedtrue.csv\")"
   ]
  },
  {
   "cell_type": "markdown",
   "metadata": {},
   "source": [
    "# For each user, given their cart, predict reorder"
   ]
  },
  {
   "cell_type": "code",
   "execution_count": null,
   "metadata": {},
   "outputs": [],
   "source": [
    "# c0_reorderedtrue = items_reordered_cluster(cluster0)\n",
    "# c1_reorderedtrue = items_reordered_cluster(cluster1)\n",
    "# c2_reorderedtrue = items_reordered_cluster(cluster2)\n",
    "# c3_reorderedtrue = items_reordered_cluster(cluster3)"
   ]
  },
  {
   "cell_type": "code",
   "execution_count": 137,
   "metadata": {},
   "outputs": [],
   "source": [
    "#csv files containing outputs of the above function that filtered\n",
    "# the dataframe for items that have been reordered at least once\n",
    "\n",
    "# c0_reorderedtrue = pd.read_csv(\"./cluster_separated/cluster0_reordered1.csv\")\n",
    "# c1_reorderedtrue = pd.read_csv(\"./cluster_separated/cluster1_reordered1.csv\")\n",
    "# c2_reorderedtrue = pd.read_csv(\"./cluster_separated/cluster2_reordered1.csv\")\n",
    "# c3_reorderedtrue = pd.read_csv(\"./cluster_separated/cluster3_reordered1.csv\")\n",
    "# c4_reorderedtrue = pd.read_csv(\"./cluster_separated/cluster4_reordered1.csv\")"
   ]
  },
  {
   "cell_type": "code",
   "execution_count": 99,
   "metadata": {},
   "outputs": [
    {
     "data": {
      "text/html": [
       "<div>\n",
       "<style scoped>\n",
       "    .dataframe tbody tr th:only-of-type {\n",
       "        vertical-align: middle;\n",
       "    }\n",
       "\n",
       "    .dataframe tbody tr th {\n",
       "        vertical-align: top;\n",
       "    }\n",
       "\n",
       "    .dataframe thead th {\n",
       "        text-align: right;\n",
       "    }\n",
       "</style>\n",
       "<table border=\"1\" class=\"dataframe\">\n",
       "  <thead>\n",
       "    <tr style=\"text-align: right;\">\n",
       "      <th></th>\n",
       "      <th>User Id</th>\n",
       "      <th>Order Id</th>\n",
       "      <th>Add To Cart Order</th>\n",
       "      <th>Aisle Id</th>\n",
       "      <th>Aisle</th>\n",
       "      <th>Department Id</th>\n",
       "      <th>Department</th>\n",
       "      <th>Product_Id</th>\n",
       "      <th>Product Name</th>\n",
       "      <th>Cluster</th>\n",
       "      <th>Days Since Prior Order</th>\n",
       "      <th>Order Dow</th>\n",
       "      <th>Order Hour Of Day</th>\n",
       "      <th>Order Number</th>\n",
       "      <th>Eval Set</th>\n",
       "      <th>Reordered</th>\n",
       "    </tr>\n",
       "  </thead>\n",
       "  <tbody>\n",
       "    <tr>\n",
       "      <td>0</td>\n",
       "      <td>138431</td>\n",
       "      <td>4908</td>\n",
       "      <td>1</td>\n",
       "      <td>27</td>\n",
       "      <td>beers coolers</td>\n",
       "      <td>5</td>\n",
       "      <td>alcohol</td>\n",
       "      <td>2054</td>\n",
       "      <td>Belgium Beer</td>\n",
       "      <td>0</td>\n",
       "      <td>30</td>\n",
       "      <td>0</td>\n",
       "      <td>3</td>\n",
       "      <td>3</td>\n",
       "      <td>prior</td>\n",
       "      <td>0</td>\n",
       "    </tr>\n",
       "    <tr>\n",
       "      <td>1</td>\n",
       "      <td>108477</td>\n",
       "      <td>12070</td>\n",
       "      <td>6</td>\n",
       "      <td>92</td>\n",
       "      <td>baby food formula</td>\n",
       "      <td>18</td>\n",
       "      <td>babies</td>\n",
       "      <td>43875</td>\n",
       "      <td>Baby Food Stage 2 Blueberry Pear &amp; Purple Carrot</td>\n",
       "      <td>0</td>\n",
       "      <td>23</td>\n",
       "      <td>0</td>\n",
       "      <td>8</td>\n",
       "      <td>3</td>\n",
       "      <td>prior</td>\n",
       "      <td>0</td>\n",
       "    </tr>\n",
       "    <tr>\n",
       "      <td>2</td>\n",
       "      <td>108477</td>\n",
       "      <td>12070</td>\n",
       "      <td>7</td>\n",
       "      <td>92</td>\n",
       "      <td>baby food formula</td>\n",
       "      <td>18</td>\n",
       "      <td>babies</td>\n",
       "      <td>5114</td>\n",
       "      <td>Peach,  Apricot &amp; Banana Stage 2 Baby Food</td>\n",
       "      <td>0</td>\n",
       "      <td>23</td>\n",
       "      <td>0</td>\n",
       "      <td>8</td>\n",
       "      <td>3</td>\n",
       "      <td>prior</td>\n",
       "      <td>0</td>\n",
       "    </tr>\n",
       "    <tr>\n",
       "      <td>3</td>\n",
       "      <td>108477</td>\n",
       "      <td>12070</td>\n",
       "      <td>8</td>\n",
       "      <td>92</td>\n",
       "      <td>baby food formula</td>\n",
       "      <td>18</td>\n",
       "      <td>babies</td>\n",
       "      <td>24413</td>\n",
       "      <td>Organic Strawberry Banana Fruit Yogurt Smoothie</td>\n",
       "      <td>0</td>\n",
       "      <td>23</td>\n",
       "      <td>0</td>\n",
       "      <td>8</td>\n",
       "      <td>3</td>\n",
       "      <td>prior</td>\n",
       "      <td>0</td>\n",
       "    </tr>\n",
       "    <tr>\n",
       "      <td>4</td>\n",
       "      <td>108477</td>\n",
       "      <td>12070</td>\n",
       "      <td>9</td>\n",
       "      <td>92</td>\n",
       "      <td>baby food formula</td>\n",
       "      <td>18</td>\n",
       "      <td>babies</td>\n",
       "      <td>19627</td>\n",
       "      <td>Butternut Squash Pear Stage 2 Baby Food</td>\n",
       "      <td>0</td>\n",
       "      <td>23</td>\n",
       "      <td>0</td>\n",
       "      <td>8</td>\n",
       "      <td>3</td>\n",
       "      <td>prior</td>\n",
       "      <td>0</td>\n",
       "    </tr>\n",
       "  </tbody>\n",
       "</table>\n",
       "</div>"
      ],
      "text/plain": [
       "   User Id  Order Id  Add To Cart Order  Aisle Id              Aisle  \\\n",
       "0   138431      4908                  1        27      beers coolers   \n",
       "1   108477     12070                  6        92  baby food formula   \n",
       "2   108477     12070                  7        92  baby food formula   \n",
       "3   108477     12070                  8        92  baby food formula   \n",
       "4   108477     12070                  9        92  baby food formula   \n",
       "\n",
       "   Department Id Department  Product_Id  \\\n",
       "0              5    alcohol        2054   \n",
       "1             18     babies       43875   \n",
       "2             18     babies        5114   \n",
       "3             18     babies       24413   \n",
       "4             18     babies       19627   \n",
       "\n",
       "                                       Product Name  Cluster  \\\n",
       "0                                      Belgium Beer        0   \n",
       "1  Baby Food Stage 2 Blueberry Pear & Purple Carrot        0   \n",
       "2        Peach,  Apricot & Banana Stage 2 Baby Food        0   \n",
       "3   Organic Strawberry Banana Fruit Yogurt Smoothie        0   \n",
       "4           Butternut Squash Pear Stage 2 Baby Food        0   \n",
       "\n",
       "   Days Since Prior Order  Order Dow  Order Hour Of Day  Order Number  \\\n",
       "0                      30          0                  3             3   \n",
       "1                      23          0                  8             3   \n",
       "2                      23          0                  8             3   \n",
       "3                      23          0                  8             3   \n",
       "4                      23          0                  8             3   \n",
       "\n",
       "  Eval Set  Reordered  \n",
       "0    prior          0  \n",
       "1    prior          0  \n",
       "2    prior          0  \n",
       "3    prior          0  \n",
       "4    prior          0  "
      ]
     },
     "execution_count": 99,
     "metadata": {},
     "output_type": "execute_result"
    }
   ],
   "source": [
    "c0_reorderedtrue.head()"
   ]
  },
  {
   "cell_type": "code",
   "execution_count": null,
   "metadata": {},
   "outputs": [],
   "source": [
    "#for each product, calculate the reorder percentage and add that into the dataframe\n",
    "#maybe do for aisle as well\n",
    "# add to cart order. probability of reorder of aisle item given add to cart order"
   ]
  },
  {
   "cell_type": "code",
   "execution_count": 125,
   "metadata": {},
   "outputs": [],
   "source": [
    "# for each cluster, calculate the percentage of items reordered given its 'Add to Cart Order Value'\n",
    "\n",
    "def reorder_addtocart(cluster_df):\n",
    "    \n",
    "    \n",
    "    added_to_cartorder = cluster_df['Add To Cart Order'].unique()\n",
    "    \n",
    "    Add_to_cart_order = []\n",
    "    \n",
    "    for i in added_to_cartorder:\n",
    "        cluster_addcartorder = cluster_df[cluster_df['Add To Cart Order'] == i]\n",
    "        addcartorder_percent = cluster_addcartorder['Reordered'].sum() / len(cluster_addcartorder['Reordered'])\n",
    "        \n",
    "        Add_to_cart_order.append((i,addcartorder_percent))\n",
    "    \n",
    "    df_cartorder = pd.DataFrame(Add_to_cart_order, columns= ['Add_to_cart_order','Percent_atco'])\n",
    "    return df_cartorder"
   ]
  },
  {
   "cell_type": "code",
   "execution_count": 128,
   "metadata": {},
   "outputs": [],
   "source": [
    "# for each cluster, calculate the percentage of items reordered for each aisle\n",
    "\n",
    "def reorder_aisle(cluster_df):\n",
    "    \n",
    "    aisle_order = cluster_df['Aisle Id'].unique()\n",
    "    \n",
    "    aisle_reorderpercent = []\n",
    "    \n",
    "    for i in aisle_order:\n",
    "        cluster_aisle = cluster_df[cluster_df['Aisle Id'] == i]\n",
    "        aisle_percent = cluster_aisle['Reordered'].sum() / len(cluster_aisle['Reordered'])\n",
    "        aisle_reorderpercent.append((i,aisle_percent))\n",
    "        \n",
    "    df_aisleorder = pd.DataFrame(aisle_reorderpercent, columns= ['Aisle_Id','Percent_aisle'])\n",
    "    \n",
    "    return df_aisleorder"
   ]
  },
  {
   "cell_type": "code",
   "execution_count": 131,
   "metadata": {},
   "outputs": [],
   "source": [
    "# calculate reorder percentage for each individual product\n",
    "\n",
    "def reorder_product(cluster_df):\n",
    "    \n",
    "    product_order = cluster_df['Product_Id'].unique()\n",
    "    \n",
    "    product_reorderpercent = []\n",
    "   \n",
    "    for i in product_order:\n",
    "        cluster_product = cluster_df[cluster_df['Product_Id'] == i]\n",
    "        product_percent = cluster_product['Reordered'].sum() / len(cluster_product['Reordered'])\n",
    "        product_reorderpercent.append((i,product_percent))\n",
    "        \n",
    "    df_productorder = pd.DataFrame(product_reorderpercent, columns= ['Product_Id','Percent_product'])\n",
    "    \n",
    "    return df_productorder"
   ]
  },
  {
   "cell_type": "code",
   "execution_count": 138,
   "metadata": {},
   "outputs": [],
   "source": [
    "## Merge values from the 3 above functions into the main cluster data frames.\n",
    "## Each cluster has its own file\n",
    "\n",
    "\n",
    "# ro_cart = reorder_addtocart(c0_reorderedtrue)\n",
    "# ro_aisle = reorder_aisle(c0_reorderedtrue)\n",
    "# ro_product = reorder_product(c0_reorderedtrue)\n",
    "\n",
    "# c0_reorderedtrue = c0_reorderedtrue.merge(ro_cart, left_on='Add To Cart Order', right_on='Add_to_cart_order')\n",
    "# c0_reorderedtrue = c0_reorderedtrue.merge(ro_aisle, left_on='Aisle Id', right_on='Aisle_Id')\n",
    "# c0_final = c0_reorderedtrue.merge(ro_product, left_on='Product_Id', right_on='Product_Id')\n",
    "\n",
    "# c0_final.to_csv(\"./cluster_separated/cluster0_finalmerged.csv\")\n",
    "\n",
    "\n",
    "#######\n",
    "# ro_cart = reorder_addtocart(c1_reorderedtrue)\n",
    "# ro_aisle = reorder_aisle(c1_reorderedtrue)\n",
    "# ro_product = reorder_product(c1_reorderedtrue)\n",
    "\n",
    "# c1_reorderedtrue = c1_reorderedtrue.merge(ro_cart, left_on='Add To Cart Order', right_on='Add_to_cart_order')\n",
    "# c1_reorderedtrue = c1_reorderedtrue.merge(ro_aisle, left_on='Aisle Id', right_on='Aisle_Id')\n",
    "# c1_final = c1_reorderedtrue.merge(ro_product, left_on='Product_Id', right_on='Product_Id')\n",
    "\n",
    "# c1_final.to_csv(\"./cluster_separated/cluster1_finalmerged.csv\")\n",
    "\n",
    "\n",
    "####\n",
    "# ro_cart = reorder_addtocart(c2_reorderedtrue)\n",
    "# ro_aisle = reorder_aisle(c2_reorderedtrue)\n",
    "# ro_product = reorder_product(c2_reorderedtrue)\n",
    "\n",
    "# c2_reorderedtrue = c2_reorderedtrue.merge(ro_cart, left_on='Add To Cart Order', right_on='Add_to_cart_order')\n",
    "# c2_reorderedtrue = c2_reorderedtrue.merge(ro_aisle, left_on='Aisle Id', right_on='Aisle_Id')\n",
    "# c2_final = c2_reorderedtrue.merge(ro_product, left_on='Product_Id', right_on='Product_Id')\n",
    "\n",
    "# c2_final.to_csv(\"./cluster_separated/cluster2_finalmerged.csv\")\n",
    "\n",
    "\n",
    "#####\n",
    "# ro_cart = reorder_addtocart(c3_reorderedtrue)\n",
    "# ro_aisle = reorder_aisle(c3_reorderedtrue)\n",
    "# ro_product = reorder_product(c3_reorderedtrue)\n",
    "\n",
    "# c3_reorderedtrue = c3_reorderedtrue.merge(ro_cart, left_on='Add To Cart Order', right_on='Add_to_cart_order')\n",
    "# c3_reorderedtrue = c3_reorderedtrue.merge(ro_aisle, left_on='Aisle Id', right_on='Aisle_Id')\n",
    "# c3_final = c3_reorderedtrue.merge(ro_product, left_on='Product_Id', right_on='Product_Id')\n",
    "\n",
    "# c3_final.to_csv(\"./cluster_separated/cluster3_finalmerged.csv\")\n",
    "\n",
    "\n",
    "#####\n",
    "# ro_cart = reorder_addtocart(c4_reorderedtrue)\n",
    "# ro_aisle = reorder_aisle(c4_reorderedtrue)\n",
    "# ro_product = reorder_product(c4_reorderedtrue)\n",
    "\n",
    "# c4_reorderedtrue = c4_reorderedtrue.merge(ro_cart, left_on='Add To Cart Order', right_on='Add_to_cart_order')\n",
    "# c4_reorderedtrue = c4_reorderedtrue.merge(ro_aisle, left_on='Aisle Id', right_on='Aisle_Id')\n",
    "# c4_final = c4_reorderedtrue.merge(ro_product, left_on='Product_Id', right_on='Product_Id')\n",
    "\n",
    "# c4_final.to_csv(\"./cluster_separated/cluster4_finalmerged.csv\")"
   ]
  },
  {
   "cell_type": "markdown",
   "metadata": {},
   "source": [
    "# Classification"
   ]
  },
  {
   "cell_type": "code",
   "execution_count": 206,
   "metadata": {},
   "outputs": [],
   "source": [
    "#csv files containing merged properties as mentioned above\n",
    "\n",
    "c0_merged = pd.read_csv(\"./cluster_separated/cluster0_finalmerged.csv\")\n",
    "c1_merged = pd.read_csv(\"./cluster_separated/cluster1_finalmerged.csv\")\n",
    "c2_merged = pd.read_csv(\"./cluster_separated/cluster2_finalmerged.csv\")\n",
    "c3_merged = pd.read_csv(\"./cluster_separated/cluster3_finalmerged.csv\")\n",
    "c4_merged = pd.read_csv(\"./cluster_separated/cluster4_finalmerged.csv\")"
   ]
  },
  {
   "cell_type": "code",
   "execution_count": 183,
   "metadata": {},
   "outputs": [],
   "source": [
    "#load the data from the test set labeled 'test'. \n",
    "#all previous work was done using the 'prior' labeled data in the train.csv file\n",
    "\n",
    "c0_mergedtest = pd.read_csv(\"./cluster_separated/cluster0_testmerged.csv\")"
   ]
  },
  {
   "cell_type": "code",
   "execution_count": 185,
   "metadata": {},
   "outputs": [],
   "source": [
    "#c0_merged.head()"
   ]
  },
  {
   "cell_type": "code",
   "execution_count": 153,
   "metadata": {},
   "outputs": [],
   "source": [
    "from sklearn.svm import SVC\n",
    "from sklearn.model_selection import train_test_split\n",
    "from sklearn.metrics import f1_score"
   ]
  },
  {
   "cell_type": "code",
   "execution_count": 186,
   "metadata": {},
   "outputs": [],
   "source": [
    "c0_Xtrain = c0_merged[['Days Since Prior Order','Order Dow','Order Hour Of Day','Percent_atco','Percent_aisle_x','Percent_product']]\n",
    "c0_Ytrain = c0_merged['Reordered']\n",
    "\n",
    "c0_Xtest = c0_mergedtest[['Days Since Prior Order','Order Dow','Order Hour Of Day','Percent_atco','Percent_aisle_x','Percent_product']]\n",
    "c0_Ytest = c0_mergedtest['Reordered']"
   ]
  },
  {
   "cell_type": "code",
   "execution_count": 189,
   "metadata": {},
   "outputs": [
    {
     "data": {
      "text/plain": [
       "0.7841830366339874"
      ]
     },
     "execution_count": 189,
     "metadata": {},
     "output_type": "execute_result"
    }
   ],
   "source": [
    "svc = SVC(kernel='rbf', gamma='scale')\n",
    "svc.fit(c0_Xtrain, c0_Ytrain)\n",
    "y_pred = svc.predict(c0_Xtest)\n",
    "f1_score(c0_Ytest, y_pred)"
   ]
  },
  {
   "cell_type": "markdown",
   "metadata": {},
   "source": [
    "# test data create"
   ]
  },
  {
   "cell_type": "code",
   "execution_count": 195,
   "metadata": {},
   "outputs": [],
   "source": [
    "testdata = pd.read_csv(\"./trainjoined_train.csv\")\n",
    "userid_cluster_table = pd.read_csv(\"./userid_cluster.csv\")"
   ]
  },
  {
   "cell_type": "code",
   "execution_count": 196,
   "metadata": {},
   "outputs": [],
   "source": [
    "testdata0 = testdata.merge(userid_cluster_table, left_on='User Id', right_on='User Id')"
   ]
  },
  {
   "cell_type": "code",
   "execution_count": 204,
   "metadata": {},
   "outputs": [],
   "source": [
    "#testdata0 = testdata0[testdata0['group']==0]\n",
    "testdata1 = testdata0[testdata0['group']==1]\n",
    "testdata2 = testdata0[testdata0['group']==2]\n",
    "testdata3 = testdata0[testdata0['group']==3]\n",
    "testdata4 = testdata0[testdata0['group']==4]"
   ]
  },
  {
   "cell_type": "code",
   "execution_count": 198,
   "metadata": {},
   "outputs": [],
   "source": [
    "testdata1 = testdata1.rename(columns={\"Product Id\": \"Product_Id\"})\n",
    "testdata2 = testdata2.rename(columns={\"Product Id\": \"Product_Id\"})\n",
    "testdata3 = testdata3.rename(columns={\"Product Id\": \"Product_Id\"})\n",
    "testdata4 = testdata4.rename(columns={\"Product Id\": \"Product_Id\"})"
   ]
  },
  {
   "cell_type": "code",
   "execution_count": 200,
   "metadata": {},
   "outputs": [],
   "source": [
    "# #create test set for Cluster 0 data\n",
    "\n",
    "# ro_cart = reorder_addtocart(c1_reorderedtrue)\n",
    "# ro_aisle = reorder_aisle(c1_reorderedtrue)\n",
    "# ro_product = reorder_product(c1_reorderedtrue)\n",
    "\n",
    "# testdata1 = testdata1.merge(ro_cart, left_on='Add To Cart Order', right_on='Add_to_cart_order')\n",
    "# testdata1 = testdata1.merge(ro_aisle, left_on='Aisle Id', right_on='Aisle_Id')\n",
    "# testdata1_final = testdata1.merge(ro_product, left_on='Product_Id', right_on='Product_Id')\n",
    "\n",
    "# testdata1_final.to_csv(\"./cluster_separated/cluster1_testmerged.csv\")\n",
    "\n",
    "# ######\n",
    "\n",
    "# ro_cart = reorder_addtocart(c2_reorderedtrue)\n",
    "# ro_aisle = reorder_aisle(c2_reorderedtrue)\n",
    "# ro_product = reorder_product(c2_reorderedtrue)\n",
    "\n",
    "# testdata2 = testdata2.merge(ro_cart, left_on='Add To Cart Order', right_on='Add_to_cart_order')\n",
    "# testdata2 = testdata2.merge(ro_aisle, left_on='Aisle Id', right_on='Aisle_Id')\n",
    "# testdata2_final = testdata2.merge(ro_product, left_on='Product_Id', right_on='Product_Id')\n",
    "\n",
    "# testdata2_final.to_csv(\"./cluster_separated/cluster2_testmerged.csv\")\n",
    "\n",
    "\n",
    "# #######\n",
    "\n",
    "# ro_cart = reorder_addtocart(c3_reorderedtrue)\n",
    "# ro_aisle = reorder_aisle(c3_reorderedtrue)\n",
    "# ro_product = reorder_product(c3_reorderedtrue)\n",
    "\n",
    "# testdata3 = testdata3.merge(ro_cart, left_on='Add To Cart Order', right_on='Add_to_cart_order')\n",
    "# testdata3 = testdata3.merge(ro_aisle, left_on='Aisle Id', right_on='Aisle_Id')\n",
    "# testdata3_final = testdata3.merge(ro_product, left_on='Product_Id', right_on='Product_Id')\n",
    "\n",
    "# testdata3_final.to_csv(\"./cluster_separated/cluster3_testmerged.csv\")\n",
    "\n",
    "\n",
    "# #######\n",
    "\n",
    "# ro_cart = reorder_addtocart(c4_reorderedtrue)\n",
    "# ro_aisle = reorder_aisle(c4_reorderedtrue)\n",
    "# ro_product = reorder_product(c4_reorderedtrue)\n",
    "\n",
    "# testdata4 = testdata4.merge(ro_cart, left_on='Add To Cart Order', right_on='Add_to_cart_order')\n",
    "# testdata4 = testdata4.merge(ro_aisle, left_on='Aisle Id', right_on='Aisle_Id')\n",
    "# testdata4_final = testdata4.merge(ro_product, left_on='Product_Id', right_on='Product_Id')\n",
    "\n",
    "# testdata4_final.to_csv(\"./cluster_separated/cluster4_testmerged.csv\")"
   ]
  },
  {
   "cell_type": "markdown",
   "metadata": {},
   "source": [
    "# Test set f1 score"
   ]
  },
  {
   "cell_type": "code",
   "execution_count": 211,
   "metadata": {},
   "outputs": [],
   "source": [
    "c0_mergedtest = pd.read_csv(\"./cluster_separated/cluster0_testmerged.csv\")\n",
    "c1_mergedtest = pd.read_csv(\"./cluster_separated/cluster1_testmerged.csv\")\n",
    "c2_mergedtest = pd.read_csv(\"./cluster_separated/cluster2_testmerged.csv\")\n",
    "c3_mergedtest = pd.read_csv(\"./cluster_separated/cluster3_testmerged.csv\")\n",
    "c4_mergedtest = pd.read_csv(\"./cluster_separated/cluster4_testmerged.csv\")"
   ]
  },
  {
   "cell_type": "code",
   "execution_count": 212,
   "metadata": {},
   "outputs": [
    {
     "name": "stdout",
     "output_type": "stream",
     "text": [
      "0.7841830366339874\n",
      "0.9156937884324035\n",
      "0.7969253695030716\n",
      "0.8310915166661986\n",
      "0.866377840370843\n"
     ]
    }
   ],
   "source": [
    "c0_Xtrain = c0_merged[['Days Since Prior Order','Order Dow','Order Hour Of Day','Percent_atco','Percent_aisle_x','Percent_product']]\n",
    "c0_Ytrain = c0_merged['Reordered']\n",
    "\n",
    "c0_Xtest = c0_mergedtest[['Days Since Prior Order','Order Dow','Order Hour Of Day','Percent_atco','Percent_aisle_x','Percent_product']]\n",
    "c0_Ytest = c0_mergedtest['Reordered']\n",
    "\n",
    "svc = SVC(kernel='rbf', gamma='scale')\n",
    "svc.fit(c0_Xtrain, c0_Ytrain)\n",
    "y_pred0 = svc.predict(c0_Xtest)\n",
    "print(f1_score(c0_Ytest, y_pred0))\n",
    "\n",
    "\n",
    "###############\n",
    "\n",
    "c1_Xtrain = c1_merged[['Days Since Prior Order','Order Dow','Order Hour Of Day','Percent_atco','Percent_aisle_x','Percent_product']]\n",
    "c1_Ytrain = c1_merged['Reordered']\n",
    "\n",
    "c1_Xtest = c1_mergedtest[['Days Since Prior Order','Order Dow','Order Hour Of Day','Percent_atco','Percent_aisle_x','Percent_product']]\n",
    "c1_Ytest = c1_mergedtest['Reordered']\n",
    "\n",
    "svc = SVC(kernel='rbf', gamma='scale')\n",
    "svc.fit(c1_Xtrain, c1_Ytrain)\n",
    "y_pred1 = svc.predict(c1_Xtest)\n",
    "print(f1_score(c1_Ytest, y_pred1))\n",
    "\n",
    "\n",
    "######\n",
    "\n",
    "\n",
    "c2_Xtrain = c2_merged[['Days Since Prior Order','Order Dow','Order Hour Of Day','Percent_atco','Percent_aisle_x','Percent_product']]\n",
    "c2_Ytrain = c2_merged['Reordered']\n",
    "\n",
    "c2_Xtest = c2_mergedtest[['Days Since Prior Order','Order Dow','Order Hour Of Day','Percent_atco','Percent_aisle_x','Percent_product']]\n",
    "c2_Ytest = c2_mergedtest['Reordered']\n",
    "\n",
    "svc = SVC(kernel='rbf', gamma='scale')\n",
    "svc.fit(c2_Xtrain, c2_Ytrain)\n",
    "y_pred2 = svc.predict(c2_Xtest)\n",
    "print(f1_score(c2_Ytest, y_pred2))\n",
    "\n",
    "\n",
    "########\n",
    "\n",
    "c3_Xtrain = c3_merged[['Days Since Prior Order','Order Dow','Order Hour Of Day','Percent_atco','Percent_aisle_x','Percent_product']]\n",
    "c3_Ytrain = c3_merged['Reordered']\n",
    "\n",
    "c3_Xtest = c3_mergedtest[['Days Since Prior Order','Order Dow','Order Hour Of Day','Percent_atco','Percent_aisle_x','Percent_product']]\n",
    "c3_Ytest = c3_mergedtest['Reordered']\n",
    "\n",
    "svc = SVC(kernel='rbf', gamma='scale')\n",
    "svc.fit(c3_Xtrain, c3_Ytrain)\n",
    "y_pred3 = svc.predict(c3_Xtest)\n",
    "print(f1_score(c3_Ytest, y_pred3))\n",
    "\n",
    "\n",
    "#########\n",
    "\n",
    "c4_Xtrain = c4_merged[['Days Since Prior Order','Order Dow','Order Hour Of Day','Percent_atco','Percent_aisle_x','Percent_product']]\n",
    "c4_Ytrain = c4_merged['Reordered']\n",
    "\n",
    "c4_Xtest = c4_mergedtest[['Days Since Prior Order','Order Dow','Order Hour Of Day','Percent_atco','Percent_aisle_x','Percent_product']]\n",
    "c4_Ytest = c4_mergedtest['Reordered']\n",
    "\n",
    "svc = SVC(kernel='rbf', gamma='scale')\n",
    "svc.fit(c4_Xtrain, c4_Ytrain)\n",
    "y_pred4 = svc.predict(c4_Xtest)\n",
    "print(f1_score(c4_Ytest, y_pred4))"
   ]
  }
 ],
 "metadata": {
  "kernelspec": {
   "display_name": "Python 3",
   "language": "python",
   "name": "python3"
  },
  "language_info": {
   "codemirror_mode": {
    "name": "ipython",
    "version": 3
   },
   "file_extension": ".py",
   "mimetype": "text/x-python",
   "name": "python",
   "nbconvert_exporter": "python",
   "pygments_lexer": "ipython3",
   "version": "3.7.4"
  }
 },
 "nbformat": 4,
 "nbformat_minor": 2
}
