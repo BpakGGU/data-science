{
 "cells": [
  {
   "cell_type": "markdown",
   "metadata": {},
   "source": [
    "## MSBA 326:  PCA\n",
    "Evan Uribe<br>\n",
    "11/17/19\n"
   ]
  },
  {
   "cell_type": "markdown",
   "metadata": {},
   "source": [
    "## PCA\n",
    "1. Review the sample code for SVM & PCA and the example from Scikit-learn documentation (https://scikit-learn.org/stable/modules/generated/sklearn.decomposition.PCA.html) .\n",
    "2. Use the wine dataset and perform multi-label classification using SVC (use one vs. others since SVC is a binary classification. Check out the code given at Scikit-learn documentation example: https://scikit-learn.org/stable/auto_examples/plot_multilabel.html#sphx-glr-auto-examples-plot-multilabel-py). Use an “RBF” classifier as your kernel. (similar to SVC homework)\n",
    "3. Apply PCA on X values (input features only) first then use oneVsRestClassifier(). Hint: Check out the example in the link at step 3.\n",
    "4. Compare the results of the classifier with and without PCA\n",
    "\n",
    "Notes: look at inputs only, apply PCA to it and use PCA as input vs original. Calculate accuracy misclassification rate between oringal vs PCA. Note(PCA will perform a little worse)"
   ]
  },
  {
   "cell_type": "code",
   "execution_count": 1,
   "metadata": {},
   "outputs": [],
   "source": [
    "from pandas import read_csv\n",
    "import pandas as pd\n",
    "import numpy as np\n",
    "from matplotlib import pyplot\n",
    "from sklearn.model_selection import KFold\n",
    "from sklearn.model_selection import cross_val_score\n",
    "from sklearn.svm import SVC\n",
    "\n",
    "from sklearn.multiclass import OneVsRestClassifier\n",
    "from sklearn.decomposition import PCA\n",
    "\n",
    "import warnings\n",
    "warnings.filterwarnings('ignore')"
   ]
  },
  {
   "cell_type": "code",
   "execution_count": 2,
   "metadata": {},
   "outputs": [
    {
     "data": {
      "text/html": [
       "<div>\n",
       "<style scoped>\n",
       "    .dataframe tbody tr th:only-of-type {\n",
       "        vertical-align: middle;\n",
       "    }\n",
       "\n",
       "    .dataframe tbody tr th {\n",
       "        vertical-align: top;\n",
       "    }\n",
       "\n",
       "    .dataframe thead th {\n",
       "        text-align: right;\n",
       "    }\n",
       "</style>\n",
       "<table border=\"1\" class=\"dataframe\">\n",
       "  <thead>\n",
       "    <tr style=\"text-align: right;\">\n",
       "      <th></th>\n",
       "      <th>class</th>\n",
       "      <th>Alcohol</th>\n",
       "      <th>Malic acid</th>\n",
       "      <th>Ash</th>\n",
       "      <th>Alkalinity of ash</th>\n",
       "      <th>Magnesium</th>\n",
       "      <th>Total phenols</th>\n",
       "      <th>Flavanoids</th>\n",
       "      <th>Nonflavanoid phenols</th>\n",
       "      <th>Proanthocyanins</th>\n",
       "      <th>Color intensity</th>\n",
       "      <th>Hue</th>\n",
       "      <th>OD280/OD315 of diluted wines</th>\n",
       "      <th>Proline</th>\n",
       "    </tr>\n",
       "  </thead>\n",
       "  <tbody>\n",
       "    <tr>\n",
       "      <th>0</th>\n",
       "      <td>1</td>\n",
       "      <td>14.23</td>\n",
       "      <td>1.71</td>\n",
       "      <td>2.43</td>\n",
       "      <td>15.6</td>\n",
       "      <td>127</td>\n",
       "      <td>2.80</td>\n",
       "      <td>3.06</td>\n",
       "      <td>0.28</td>\n",
       "      <td>2.29</td>\n",
       "      <td>5.64</td>\n",
       "      <td>1.04</td>\n",
       "      <td>3.92</td>\n",
       "      <td>1065</td>\n",
       "    </tr>\n",
       "    <tr>\n",
       "      <th>1</th>\n",
       "      <td>1</td>\n",
       "      <td>13.20</td>\n",
       "      <td>1.78</td>\n",
       "      <td>2.14</td>\n",
       "      <td>11.2</td>\n",
       "      <td>100</td>\n",
       "      <td>2.65</td>\n",
       "      <td>2.76</td>\n",
       "      <td>0.26</td>\n",
       "      <td>1.28</td>\n",
       "      <td>4.38</td>\n",
       "      <td>1.05</td>\n",
       "      <td>3.40</td>\n",
       "      <td>1050</td>\n",
       "    </tr>\n",
       "    <tr>\n",
       "      <th>2</th>\n",
       "      <td>1</td>\n",
       "      <td>13.16</td>\n",
       "      <td>2.36</td>\n",
       "      <td>2.67</td>\n",
       "      <td>18.6</td>\n",
       "      <td>101</td>\n",
       "      <td>2.80</td>\n",
       "      <td>3.24</td>\n",
       "      <td>0.30</td>\n",
       "      <td>2.81</td>\n",
       "      <td>5.68</td>\n",
       "      <td>1.03</td>\n",
       "      <td>3.17</td>\n",
       "      <td>1185</td>\n",
       "    </tr>\n",
       "  </tbody>\n",
       "</table>\n",
       "</div>"
      ],
      "text/plain": [
       "   class  Alcohol  Malic acid   Ash  Alkalinity of ash  Magnesium  \\\n",
       "0      1    14.23        1.71  2.43               15.6        127   \n",
       "1      1    13.20        1.78  2.14               11.2        100   \n",
       "2      1    13.16        2.36  2.67               18.6        101   \n",
       "\n",
       "   Total phenols  Flavanoids  Nonflavanoid phenols  Proanthocyanins  \\\n",
       "0           2.80        3.06                  0.28             2.29   \n",
       "1           2.65        2.76                  0.26             1.28   \n",
       "2           2.80        3.24                  0.30             2.81   \n",
       "\n",
       "   Color intensity   Hue  OD280/OD315 of diluted wines  Proline  \n",
       "0             5.64  1.04                          3.92     1065  \n",
       "1             4.38  1.05                          3.40     1050  \n",
       "2             5.68  1.03                          3.17     1185  "
      ]
     },
     "execution_count": 2,
     "metadata": {},
     "output_type": "execute_result"
    }
   ],
   "source": [
    "# load dataset\n",
    "filename = ('~/Documents/workspace/ggu/data/Course Data/wine.csv')  \n",
    "colnames = ['class', 'Alcohol', 'Malic acid', 'Ash', 'Alkalinity of ash', 'Magnesium', \n",
    "                      'Total phenols', 'Flavanoids', 'Nonflavanoid phenols', 'Proanthocyanins', \n",
    "                     'Color intensity', 'Hue', 'OD280/OD315 of diluted wines', 'Proline']\n",
    "wine = read_csv(filename, names=colnames)\n",
    "\n",
    "features = ['Alcohol', 'Malic acid', 'Ash', 'Alkalinity of ash',\n",
    "       'Magnesium', 'Total phenols', 'Flavanoids', 'Nonflavanoid phenols',\n",
    "       'Proanthocyanins', 'Color intensity', 'Hue',\n",
    "       'OD280/OD315 of diluted wines', 'Proline']\n",
    "\n",
    "x = wine.loc[:, features].values\n",
    "y = wine.loc[:,['class']].values\n",
    "target = wine['class']\n",
    "\n",
    "wine.head(3)\n"
   ]
  },
  {
   "cell_type": "code",
   "execution_count": 3,
   "metadata": {},
   "outputs": [],
   "source": [
    "from time import time\n",
    "\n",
    "names = []\n",
    "results = []\n",
    "models= []\n",
    "\n",
    "# evaluate each model in turn\n",
    "# cross_val_score helper function that will iterate over 10 folds (specified) \n",
    "def getAccuracy(models, X, Y):\n",
    "    \n",
    "    for name, model in models:\n",
    "        kfold = KFold(n_splits=10, random_state=7)  \n",
    "        start = time()\n",
    "        cv_results = cross_val_score(model, X, Y, cv=kfold, \n",
    "                    scoring='accuracy') #https://scikit-learn.org/stable/modules/model_evaluation.html\n",
    "                                \n",
    "        end = time()\n",
    "        results.append(cv_results)\n",
    "        names.append(name)\n",
    "        print(\"%s: %f (%f) <time=%f>\" % (name, cv_results.mean(), cv_results.std(), end - start))   \n",
    "    "
   ]
  },
  {
   "cell_type": "code",
   "execution_count": 4,
   "metadata": {},
   "outputs": [],
   "source": [
    "# boxplot algorithm comparison\n",
    "def comparePlot():\n",
    "    fig = pyplot.figure()\n",
    "    fig.suptitle('Algorithm Comparison')\n",
    "    ax = fig.add_subplot(111)\n",
    "    pyplot.boxplot(results)\n",
    "    ax.set_xticklabels(names)\n",
    "    pyplot.show()"
   ]
  },
  {
   "cell_type": "code",
   "execution_count": 5,
   "metadata": {},
   "outputs": [
    {
     "data": {
      "text/plain": [
       "Index(['class', 'Alcohol', 'Malic acid', 'Ash', 'Alkalinity of ash',\n",
       "       'Magnesium', 'Total phenols', 'Flavanoids', 'Nonflavanoid phenols',\n",
       "       'Proanthocyanins', 'Color intensity', 'Hue',\n",
       "       'OD280/OD315 of diluted wines', 'Proline'],\n",
       "      dtype='object')"
      ]
     },
     "execution_count": 5,
     "metadata": {},
     "output_type": "execute_result"
    }
   ],
   "source": [
    "wine.columns"
   ]
  },
  {
   "cell_type": "markdown",
   "metadata": {},
   "source": [
    "## determine min components that explains most of the variability"
   ]
  },
  {
   "cell_type": "code",
   "execution_count": 6,
   "metadata": {},
   "outputs": [],
   "source": [
    "from sklearn.preprocessing import StandardScaler\n",
    "\n",
    "# standardize\n",
    "std_wine= StandardScaler().fit_transform(wine)"
   ]
  },
  {
   "cell_type": "code",
   "execution_count": 7,
   "metadata": {},
   "outputs": [
    {
     "name": "stdout",
     "output_type": "stream",
     "text": [
      "non standardized dataset\n"
     ]
    },
    {
     "data": {
      "image/png": "[encoded data removed]",
      "text/plain": [
       "<Figure size 432x288 with 1 Axes>"
      ]
     },
     "metadata": {
      "needs_background": "light"
     },
     "output_type": "display_data"
    }
   ],
   "source": [
    "import matplotlib.pyplot as plt\n",
    "\n",
    "print('non standardized dataset')\n",
    "pca = PCA().fit(wine)\n",
    "plt.plot(np.cumsum(pca.explained_variance_ratio_))\n",
    "plt.xlabel('number of components')\n",
    "plt.ylabel('cumulative explained variance');\n"
   ]
  },
  {
   "cell_type": "markdown",
   "metadata": {},
   "source": [
    "over 99% of the variance is explained by PC 1"
   ]
  },
  {
   "cell_type": "code",
   "execution_count": 8,
   "metadata": {},
   "outputs": [
    {
     "name": "stdout",
     "output_type": "stream",
     "text": [
      "standardized\n"
     ]
    },
    {
     "data": {
      "image/png": "[encoded data removed]",
      "text/plain": [
       "<Figure size 432x288 with 1 Axes>"
      ]
     },
     "metadata": {
      "needs_background": "light"
     },
     "output_type": "display_data"
    }
   ],
   "source": [
    "print('standardized')\n",
    "pca = PCA().fit(std_wine)\n",
    "plt.plot(np.cumsum(pca.explained_variance_ratio_))\n",
    "plt.xlabel('number of components')\n",
    "plt.ylabel('cumulative explained variance');"
   ]
  },
  {
   "cell_type": "markdown",
   "metadata": {},
   "source": [
    "Looks like 6 PC are needed to explain 85 % of the variation in the data."
   ]
  },
  {
   "cell_type": "code",
   "execution_count": 9,
   "metadata": {},
   "outputs": [],
   "source": [
    "def plotPca(datat):\n",
    "    fig = plt.figure(figsize=(10,8))\n",
    "    ax0 = fig.add_subplot(111)\n",
    "    ax0.scatter(datat.T[0],datat.T[1])\n",
    "    for l,c in zip((np.unique(target)),['red','green','blue']):\n",
    "        ax0.scatter(datat.T[0,target==l],datat.T[1,target==l],c=c,label=l)\n",
    "    ax0.legend()\n",
    "    plt.show()"
   ]
  },
  {
   "cell_type": "markdown",
   "metadata": {},
   "source": [
    "### components = 2"
   ]
  },
  {
   "cell_type": "code",
   "execution_count": 10,
   "metadata": {},
   "outputs": [
    {
     "data": {
      "image/png": "[encoded data removed]",
      "text/plain": [
       "<Figure size 720x576 with 1 Axes>"
      ]
     },
     "metadata": {
      "needs_background": "light"
     },
     "output_type": "display_data"
    },
    {
     "name": "stdout",
     "output_type": "stream",
     "text": [
      "[0.39542486 0.17836259] 0.5737874490085584\n"
     ]
    }
   ],
   "source": [
    "pca = PCA(n_components=2,random_state=42) \n",
    "#pca.fit(x)\n",
    "datat = pca.fit_transform(std_wine)\n",
    "#print(pca.components_)\n",
    "#print(pca.explained_variance_)\n",
    "plotPca(datat)\n",
    "print(pca.explained_variance_ratio_, pca.explained_variance_ratio_.sum())\n"
   ]
  },
  {
   "cell_type": "markdown",
   "metadata": {},
   "source": [
    "The first 2 PC explains 57% of the variation.  Even though this is less than 85%, the wine classes are mostly separable"
   ]
  },
  {
   "cell_type": "markdown",
   "metadata": {},
   "source": [
    "### components = 6"
   ]
  },
  {
   "cell_type": "code",
   "execution_count": 11,
   "metadata": {},
   "outputs": [
    {
     "data": {
      "image/png": "[encoded data removed]",
      "text/plain": [
       "<Figure size 720x576 with 1 Axes>"
      ]
     },
     "metadata": {
      "needs_background": "light"
     },
     "output_type": "display_data"
    },
    {
     "name": "stdout",
     "output_type": "stream",
     "text": [
      "[0.39542486 0.17836259 0.10329102 0.06627984 0.06267875 0.0480556 ] 0.8540926568319015\n"
     ]
    }
   ],
   "source": [
    "pca = PCA(n_components=6,random_state=42) \n",
    "datat = pca.fit_transform(std_wine)\n",
    "plotPca(datat)\n",
    "print(pca.explained_variance_ratio_,pca.explained_variance_ratio_.sum())\n"
   ]
  },
  {
   "cell_type": "markdown",
   "metadata": {},
   "source": [
    "The first  PC explains ~85% of the variation in the data."
   ]
  },
  {
   "cell_type": "code",
   "execution_count": 12,
   "metadata": {},
   "outputs": [
    {
     "name": "stdout",
     "output_type": "stream",
     "text": [
      "features: without PCA (178, 13)\n",
      "rbf w/o PCA: 0.178431 (0.188470) <time=0.120445>\n"
     ]
    }
   ],
   "source": [
    "from sklearn.multiclass import OneVsRestClassifier\n",
    "from sklearn import metrics\n",
    "\n",
    "names = []\n",
    "#results = []\n",
    "models = []\n",
    "\n",
    "#models.append(('rbf', SVC(kernel = 'rbf', C=1.0, random_state=1))) # SVC Classifier\n",
    "\n",
    "print('features: without PCA', x.shape)\n",
    "clsf = OneVsRestClassifier(SVC(kernel='rbf', C=1.0, random_state=7))\n",
    "models.append(('rbf w/o PCA', clsf)) \n",
    "\n",
    "getAccuracy(models, x, y)\n"
   ]
  },
  {
   "cell_type": "code",
   "execution_count": 13,
   "metadata": {},
   "outputs": [
    {
     "name": "stdout",
     "output_type": "stream",
     "text": [
      "features: with PCA (178, 2)\n",
      "PCA-2: 0.122222 (0.175330) <time=0.104896>\n"
     ]
    }
   ],
   "source": [
    "#names = []\n",
    "#results = []\n",
    "models = []\n",
    "\n",
    "X = PCA(n_components=2).fit_transform(x)\n",
    "print('features: with PCA', X.shape)\n",
    "clsf = OneVsRestClassifier(SVC(kernel='rbf', C=1.0, random_state=7))\n",
    "models.append(('PCA-2', clsf)) \n",
    "\n",
    "getAccuracy(models, X, y)\n"
   ]
  },
  {
   "cell_type": "code",
   "execution_count": 14,
   "metadata": {},
   "outputs": [
    {
     "name": "stdout",
     "output_type": "stream",
     "text": [
      "features: with PCA (178, 6)\n",
      "PCA-6: 0.139542 (0.201960) <time=0.108003>\n"
     ]
    }
   ],
   "source": [
    "#names = []\n",
    "#results = []\n",
    "models = []\n",
    "\n",
    "X = PCA(n_components=6).fit_transform(x)\n",
    "print('features: with PCA', X.shape)\n",
    "clsf = OneVsRestClassifier(SVC(kernel='rbf', C=1.0, random_state=7))\n",
    "models.append(('PCA-6', clsf)) \n",
    "\n",
    "getAccuracy(models, X, y)\n"
   ]
  },
  {
   "cell_type": "markdown",
   "metadata": {},
   "source": [
    "- without PCA, mean accuracy is: 0.178431\n",
    "- with PCA (n_components=2) mean accuracy is: 0.122222\n",
    "- with PCA (n_components=6) mean accuracy is: 0.139542"
   ]
  },
  {
   "cell_type": "code",
   "execution_count": 15,
   "metadata": {},
   "outputs": [
    {
     "data": {
      "image/png": "[encoded data removed]",
      "text/plain": [
       "<Figure size 432x288 with 1 Axes>"
      ]
     },
     "metadata": {
      "needs_background": "light"
     },
     "output_type": "display_data"
    }
   ],
   "source": [
    "comparePlot()"
   ]
  },
  {
   "cell_type": "markdown",
   "metadata": {},
   "source": [
    "Overall PCA performs worse than non-PCA due to loss from feature reduction.  As the numbere of components is increased, performance is also increased."
   ]
  },
  {
   "cell_type": "markdown",
   "metadata": {},
   "source": [
    "References<br>\n",
    "https://scikit-learn.org/stable/auto_examples/preprocessing/plot_scaling_importance.html#sphx-glr-auto-examples-preprocessing-plot-scaling-importance-py<br>\n",
    "https://scikit-learn.org/stable/modules/multiclass.html<br>\n",
    "https://jakevdp.github.io/PythonDataScienceHandbook/05.09-principal-component-analysis.html<br>\n",
    "https://towardsdatascience.com/pca-using-python-scikit-learn-e653f8989e60<br>\n"
   ]
  }
 ],
 "metadata": {
  "kernelspec": {
   "display_name": "Python 3",
   "language": "python",
   "name": "python3"
  },
  "language_info": {
   "codemirror_mode": {
    "name": "ipython",
    "version": 3
   },
   "file_extension": ".py",
   "mimetype": "text/x-python",
   "name": "python",
   "nbconvert_exporter": "python",
   "pygments_lexer": "ipython3",
   "version": "3.7.3"
  }
 },
 "nbformat": 4,
 "nbformat_minor": 1
}
